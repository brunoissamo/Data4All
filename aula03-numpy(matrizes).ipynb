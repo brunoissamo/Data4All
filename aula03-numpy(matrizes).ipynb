{
 "cells": [
  {
   "cell_type": "markdown",
   "id": "396e845d",
   "metadata": {},
   "source": [
    "# Numpy"
   ]
  },
  {
   "cell_type": "markdown",
   "id": "f7b40eb6",
   "metadata": {},
   "source": [
    "**Relembrando**  \n",
    "  \n",
    "A biblioteca **NumPy** _(Numerical Python)_ proporciona uma forma eficiente de armazenagem e processamento de conjuntos de dados, e é utilizada como base para a construção da biblioteca Pandas, que estudaremos a seguir.\n",
    "\n",
    "O diferencial do Numpy é sua velocidade e eficiência, o que faz com que ela seja amplamente utilizada para computação científica e analise de dados. \n",
    "\n",
    "A velocidade e eficiência é possível graças à estrutura chamada **numpy array**, que é um forma eficiente de guardar e manipular matrizes, que serve como base para as tabelas que iremos utilizar."
   ]
  },
  {
   "cell_type": "code",
   "execution_count": null,
   "id": "9c2e96a9",
   "metadata": {},
   "outputs": [],
   "source": [
    "# A gente importa o numpy sempre chamando ele de \"np\"\n",
    "import numpy as np"
   ]
  },
  {
   "cell_type": "code",
   "execution_count": null,
   "id": "7ab9fbe9",
   "metadata": {},
   "outputs": [],
   "source": [
    "py_array = [1,  2,  3]\n",
    "\n",
    "np_array = np.array(py_array)\n",
    "\n",
    "print(np_array)\n",
    "print(type(np_array))"
   ]
  },
  {
   "cell_type": "code",
   "execution_count": null,
   "id": "5f3a07bf",
   "metadata": {},
   "outputs": [],
   "source": [
    "print(type(np_array[0]))"
   ]
  },
  {
   "cell_type": "code",
   "execution_count": null,
   "id": "7b65c4bc",
   "metadata": {},
   "outputs": [],
   "source": [
    "# Vamos fazer uma comparação com um vetor do numpy\n",
    "py_matriz = [[1,   2,  3],\n",
    "            [4,   5,  6],\n",
    "            [7,   8,  9],\n",
    "            [10, 11, 12]]\n",
    "\n",
    "np_matriz = np.array(py_matriz)\n",
    "\n",
    "print(np_matriz)\n",
    "print(type(np_matriz))"
   ]
  },
  {
   "cell_type": "code",
   "execution_count": null,
   "id": "4ec6934a",
   "metadata": {},
   "outputs": [],
   "source": [
    "np_matriz[0]"
   ]
  },
  {
   "cell_type": "code",
   "execution_count": null,
   "id": "7cbb8c76",
   "metadata": {},
   "outputs": [],
   "source": [
    "print(type(np_matriz[0]))"
   ]
  },
  {
   "cell_type": "code",
   "execution_count": null,
   "id": "70a6c74c",
   "metadata": {},
   "outputs": [],
   "source": [
    "print(type(np_matriz[0][0]))"
   ]
  },
  {
   "cell_type": "code",
   "execution_count": null,
   "id": "ad7087b8",
   "metadata": {},
   "outputs": [],
   "source": [
    "# 3 atributos básicos pra um ndarray\n",
    "print(np_matriz.shape)   # O formato dele\n",
    "print(np_matriz.ndim)    # Quantas dimensões ele tem\n",
    "print(np_matriz.dtype)   # O \"dtype\", que é o tipo dos elementos (número, letra, ...) dele"
   ]
  },
  {
   "cell_type": "code",
   "execution_count": null,
   "id": "61e3d7b5",
   "metadata": {},
   "outputs": [],
   "source": [
    "x = np.array([1, 2, 3]) # Um vetor também é um ndarray\n",
    "print(type(x))\n",
    "print(x.dtype)"
   ]
  },
  {
   "cell_type": "code",
   "execution_count": null,
   "id": "30797cb3",
   "metadata": {},
   "outputs": [],
   "source": [
    "# O dtype de um array do numpy pode ser controlado na hora que a gente cria.\n",
    "py_matriz = [[1,   2,  3],\n",
    "            [4,   5,  6],\n",
    "            [7,   8,  9],\n",
    "            [10, 11, 12]]\n",
    "\n",
    "matriz = np.array(py_matriz, dtype=np.float64)"
   ]
  },
  {
   "cell_type": "code",
   "execution_count": null,
   "id": "bc3a2f7f",
   "metadata": {},
   "outputs": [],
   "source": [
    "print(matriz)\n",
    "print(matriz.dtype)"
   ]
  },
  {
   "cell_type": "code",
   "execution_count": null,
   "id": "99c0d86d",
   "metadata": {},
   "outputs": [],
   "source": [
    "# Para selecionar um elemento de uma tabela no Python e no Numpy, tem uma ligeira diferença.\n",
    "print((matriz[0][0])) # Python: Pega a primeira linha. Dela, pega o primeiro elemento.\n",
    "print((matriz[0,0]))  # Numpy: Pega o elemento da linha 0, coluna 0."
   ]
  },
  {
   "cell_type": "markdown",
   "id": "6bda33f8",
   "metadata": {},
   "source": [
    "Slicing com matriz"
   ]
  },
  {
   "cell_type": "code",
   "execution_count": null,
   "id": "8f9e2122",
   "metadata": {},
   "outputs": [],
   "source": [
    "# Slicing funciona no numpy!\n",
    "print(matriz)\n",
    "print('------')\n",
    "print(matriz[:,1:]) # Pegando a terceira coluna\n",
    "print('------')\n",
    "print(matriz[1,:]) # Pegando a segunda linha\n",
    "print('------')\n",
    "print(matriz[1,::-1]) # Pegando a segunda linha, e invertendo seus elementos de trás pra frente."
   ]
  },
  {
   "cell_type": "markdown",
   "id": "e864132c",
   "metadata": {},
   "source": [
    "**Funções numpy**  \n",
    "O numpy também tem diversas funções para facilitar criação de matrizes."
   ]
  },
  {
   "cell_type": "code",
   "execution_count": null,
   "id": "cb47ae67",
   "metadata": {},
   "outputs": [],
   "source": [
    "print(np.zeros((10, 3)), end='\\n\\n') # O \"end\" muda o que o Python encaixa no fim do que ele mostra pra gente.\n",
    "print(np.ones((5,2)), end='\\n\\n') # \\n é pular linha, e é o default. \\n\\n pula 2 linhas.\n",
    "print(np.identity(4), end='\\n\\n')\n",
    "print(np.eye(4, 3), end='\\n\\n')"
   ]
  },
  {
   "cell_type": "markdown",
   "id": "af8b483d",
   "metadata": {},
   "source": [
    "# Manipulações de matrizes"
   ]
  },
  {
   "cell_type": "code",
   "execution_count": null,
   "id": "103153e3",
   "metadata": {},
   "outputs": [],
   "source": [
    "matriz"
   ]
  },
  {
   "cell_type": "code",
   "execution_count": null,
   "id": "5ead4367",
   "metadata": {},
   "outputs": [],
   "source": [
    "# Transposição de matrizes\n",
    "matriz.T"
   ]
  },
  {
   "cell_type": "code",
   "execution_count": null,
   "id": "87df6a49",
   "metadata": {},
   "outputs": [],
   "source": [
    "array_transposto = np.transpose(matriz)\n",
    "array_transposto"
   ]
  },
  {
   "cell_type": "code",
   "execution_count": null,
   "id": "b7bc6bc8",
   "metadata": {},
   "outputs": [],
   "source": [
    "matriz.transpose()"
   ]
  },
  {
   "cell_type": "code",
   "execution_count": null,
   "id": "e347d8b8",
   "metadata": {},
   "outputs": [],
   "source": [
    "x = np.array([0.1, 0.4, 1.0, 0.2, 0.7, 1.2, 1.1, 1.0, 0.9])\n",
    "x.shape"
   ]
  },
  {
   "cell_type": "code",
   "execution_count": null,
   "id": "5c298535",
   "metadata": {},
   "outputs": [],
   "source": [
    "# Redimensionamento\n",
    "x.reshape(3, 3)"
   ]
  },
  {
   "cell_type": "code",
   "execution_count": null,
   "id": "9e51e72f",
   "metadata": {},
   "outputs": [],
   "source": [
    "y = np.array([0.1, 0.4, 1.0, 0.2, 0.7, 1.2, 1.1, 1.0, 0.9, 2.0,\n",
    "              1.5, 1.6])\n",
    "y.shape"
   ]
  },
  {
   "cell_type": "code",
   "execution_count": null,
   "id": "01201e9a",
   "metadata": {
    "scrolled": true
   },
   "outputs": [],
   "source": [
    "# Vejam o que acontece se as dimensões não são condizentes\n",
    "y.reshape(3, 3)"
   ]
  },
  {
   "cell_type": "code",
   "execution_count": null,
   "id": "b64b9ce4",
   "metadata": {},
   "outputs": [],
   "source": [
    "# E se eu quiser retornar para um vetor\n",
    "x = np.array([[1, 2, 3],\n",
    "              [4, 5, 6],\n",
    "              [7, 8, 9]])\n",
    "\n",
    "x.reshape((-1, 9))"
   ]
  },
  {
   "cell_type": "code",
   "execution_count": null,
   "id": "69d11867",
   "metadata": {},
   "outputs": [],
   "source": [
    "# Também é possível utilizar o flatten\n",
    "x.flatten()"
   ]
  },
  {
   "cell_type": "code",
   "execution_count": null,
   "id": "0bf692ae",
   "metadata": {},
   "outputs": [],
   "source": [
    "# Também podemos combinar arrays diferentes.\n",
    "# Imagina que temos duas features, altura e peso de pessoas físicas.\n",
    "x1 = np.array([[1.67, 89.],\n",
    "               [1.79, 85.],\n",
    "               [1.69, 65.],\n",
    "               [1.54, 57.],\n",
    "               [1.50, 45.]])\n",
    "\n",
    "# Porém, nós queremos testar agora adicionar uma terceira feature, se a pessoa é homem ou mulher.\n",
    "# 1 é mulher, 0 é homem\n",
    "x2 = np.array([1, 0, 1, 0, 1])\n",
    "\n",
    "# Como podemos fazer?"
   ]
  },
  {
   "cell_type": "code",
   "execution_count": null,
   "id": "71f46c3f",
   "metadata": {},
   "outputs": [],
   "source": [
    "#Podemos utilizar o concatenate\n",
    "np.concatenate((x1, x2.reshape(-1, 1)), axis=1) # O valor -1 no reshape significa que não sabemos quantas linhas teremos, o próprio numpy irá definir"
   ]
  },
  {
   "cell_type": "code",
   "execution_count": null,
   "id": "f50d4542",
   "metadata": {},
   "outputs": [],
   "source": [
    "np.concatenate((x1, x2.T), axis=1) "
   ]
  },
  {
   "cell_type": "code",
   "execution_count": null,
   "id": "f8679c60",
   "metadata": {},
   "outputs": [],
   "source": [
    "np.append(x1, x2.reshape(-1, 1), axis=1) "
   ]
  },
  {
   "cell_type": "code",
   "execution_count": null,
   "id": "b44bef12",
   "metadata": {},
   "outputs": [],
   "source": [
    "np.insert(x1, 1, x2, axis=1)"
   ]
  },
  {
   "cell_type": "code",
   "execution_count": null,
   "id": "f427bf99",
   "metadata": {},
   "outputs": [],
   "source": [
    "np.vstack([x1.T, x2])"
   ]
  },
  {
   "cell_type": "code",
   "execution_count": null,
   "id": "6abcbb1c",
   "metadata": {},
   "outputs": [],
   "source": [
    "np.vstack([x1.T, x2]).T"
   ]
  },
  {
   "cell_type": "code",
   "execution_count": null,
   "id": "429fec63",
   "metadata": {},
   "outputs": [],
   "source": [
    "np.hstack([x1, x2.reshape(-1, 1)])"
   ]
  },
  {
   "cell_type": "code",
   "execution_count": null,
   "id": "19ae7488",
   "metadata": {},
   "outputs": [],
   "source": [
    "np.column_stack([x1, x2])"
   ]
  },
  {
   "cell_type": "code",
   "execution_count": null,
   "id": "42ac946c",
   "metadata": {},
   "outputs": [],
   "source": [
    "# Agora temos a tabela de dados abaixo.\n",
    "table = np.array([[1.67, 89., 1],\n",
    "                  [1.79, 85., 0],\n",
    "                  [1.69, 65., 1],\n",
    "                  [1.54, 57., 0],\n",
    "                  [1.50, 45., 1]])\n",
    "\n",
    "# Mas tinhamos esquecido de outras 3 pessoas!\n",
    "new_table = np.array([[1.78, 91, 0],\n",
    "                      [1.72, 67, 1],\n",
    "                      [1.77, 76, 1]])"
   ]
  },
  {
   "cell_type": "code",
   "execution_count": null,
   "id": "582baf26",
   "metadata": {},
   "outputs": [],
   "source": [
    "# Como podemos juntar as tabelas?\n",
    "np.vstack([table, new_table])"
   ]
  },
  {
   "cell_type": "code",
   "execution_count": null,
   "id": "2aa445e6",
   "metadata": {},
   "outputs": [],
   "source": [
    "np.append(table, new_table, axis=0)"
   ]
  },
  {
   "cell_type": "code",
   "execution_count": null,
   "id": "1ff93db0",
   "metadata": {},
   "outputs": [],
   "source": [
    "np.append(table, new_table).reshape(-1, 3)"
   ]
  },
  {
   "cell_type": "markdown",
   "id": "5e63879e",
   "metadata": {},
   "source": [
    "# Operações Básicas"
   ]
  },
  {
   "cell_type": "code",
   "execution_count": null,
   "id": "cb4f94c0",
   "metadata": {},
   "outputs": [],
   "source": [
    "vec1 = np.arange(0, 10, 1)\n",
    "print(vec1)\n",
    "print(vec1 * 2)"
   ]
  },
  {
   "cell_type": "code",
   "execution_count": null,
   "id": "92aa6dfc",
   "metadata": {},
   "outputs": [],
   "source": [
    "matriz"
   ]
  },
  {
   "cell_type": "code",
   "execution_count": null,
   "id": "dd788bdd",
   "metadata": {},
   "outputs": [],
   "source": [
    "#Podemos multiplicar por um escalar\n",
    "matriz_dobro = 2 * matriz\n",
    "matriz_dobro"
   ]
  },
  {
   "cell_type": "code",
   "execution_count": null,
   "id": "a7002dda",
   "metadata": {},
   "outputs": [],
   "source": [
    "# Podemos somar duas matrizes\n",
    "print(matriz + matriz_dobro)"
   ]
  },
  {
   "cell_type": "code",
   "execution_count": null,
   "id": "cf606dab",
   "metadata": {},
   "outputs": [],
   "source": [
    "# Multiplicação elemento por elemento\n",
    "print(matriz * matriz_dobro)"
   ]
  },
  {
   "cell_type": "code",
   "execution_count": null,
   "id": "4fedf1b6",
   "metadata": {},
   "outputs": [],
   "source": [
    "print(matriz.shape)\n",
    "print(matriz_dobro.shape)"
   ]
  },
  {
   "cell_type": "code",
   "execution_count": null,
   "id": "97971086",
   "metadata": {},
   "outputs": [],
   "source": [
    "# Produto matricial\n",
    "print(matriz @ matriz_dobro.T)\n",
    "\n",
    "print('----------------------------')\n",
    "# Outra forma de escrever a mesma coisa\n",
    "print(matriz.dot(matriz_dobro.T))"
   ]
  },
  {
   "cell_type": "markdown",
   "id": "9384d618",
   "metadata": {},
   "source": [
    "**Bora praticar!**  \n",
    "  \n",
    "Transforme o csv **dados_artificiais**, que está na pasta **dados**, para um numpy array (matriz)"
   ]
  },
  {
   "cell_type": "code",
   "execution_count": null,
   "id": "4b3dd763",
   "metadata": {},
   "outputs": [],
   "source": []
  },
  {
   "cell_type": "markdown",
   "id": "5743e18c",
   "metadata": {},
   "source": [
    "Agora utilize esta matriz para calcular o IMC, utilizando a equação\n",
    "\n",
    "```\n",
    "IMC = peso / altura**2\n",
    "```\n",
    "e insira na nova tabela"
   ]
  },
  {
   "cell_type": "code",
   "execution_count": null,
   "id": "105026ec",
   "metadata": {},
   "outputs": [],
   "source": []
  },
  {
   "cell_type": "code",
   "execution_count": null,
   "id": "54d6742f",
   "metadata": {},
   "outputs": [],
   "source": []
  },
  {
   "cell_type": "markdown",
   "id": "e113561c",
   "metadata": {},
   "source": [
    "| IMC             | Categoria           |   |\n",
    "|-----------------|---------------------|---|\n",
    "| abaixo de 16,00 | Baixo peso Grau III |   |\n",
    "| 16,00 a 16,99   | Baixo peso Grau II  |   |\n",
    "| 17,00 a 18.49   | Baixo peso Grau I   |   |\n",
    "| 18,50 a 24,99   | Peso ideal          |   |\n",
    "| 25,00 a 29,99   | Sobrepeso           |   |\n",
    "| 30,00 a 34,99   | Obesidade Grau I    |   |\n",
    "| 35,00 a 39,99   | Obesidade Grau II   |   |\n",
    "| 40,0 e acima    | Obesidade Grau III  |   |\n",
    "\n",
    "Agora utilize a tabela acima para indicar a qual categoria cada valor de IMC se enquadra. Insira novamente na tabela."
   ]
  },
  {
   "cell_type": "code",
   "execution_count": null,
   "id": "3547278d",
   "metadata": {},
   "outputs": [],
   "source": []
  },
  {
   "cell_type": "markdown",
   "id": "a098d472",
   "metadata": {},
   "source": [
    "### Tipos de dados"
   ]
  },
  {
   "cell_type": "markdown",
   "id": "df4dff6f",
   "metadata": {},
   "source": [
    "Primeiro vamos falar do infinito (e além).\n",
    "\n",
    "Quando fazemos operações de ponto flutuante no computador, existe um padrão técnico (definido pela IEEE, o Instituto de Engenheiros Eletro-eletrônicos) que define algumas coisas que uma biblioteca tem que ter.\n",
    "\n",
    "Especificamente, aqui vamos falar de duas coisas:\n",
    "- Not a Number (NAN)\n",
    "- Infinito"
   ]
  },
  {
   "cell_type": "code",
   "execution_count": null,
   "id": "9b952e58",
   "metadata": {},
   "outputs": [],
   "source": [
    "# Not a Number é o resultado de operações inválidas.\n",
    "# Embora ele exista no Python, operações inválidas tendem a levantar um erro.\n",
    "0/0"
   ]
  },
  {
   "cell_type": "code",
   "execution_count": null,
   "id": "7cd1a71f",
   "metadata": {},
   "outputs": [],
   "source": [
    "# Para usá-lo no python, temos que converter string para float.\n",
    "float('NaN')"
   ]
  },
  {
   "cell_type": "code",
   "execution_count": null,
   "id": "2ed080c8",
   "metadata": {},
   "outputs": [],
   "source": [
    "# No numpy, temos o objeto nan.\n",
    "print(np.nan)\n",
    "print(type(np.nan))"
   ]
  },
  {
   "cell_type": "code",
   "execution_count": null,
   "id": "2e9e1480",
   "metadata": {},
   "outputs": [],
   "source": [
    "# Já no numpy, operações inválidas retornam NaN mesmo.\n",
    "x1 = np.array([1, 0, 1, 0])\n",
    "x2 = np.array([2, 1, 2, 0])\n",
    "\n",
    "print(x1 / x2)"
   ]
  },
  {
   "cell_type": "code",
   "execution_count": null,
   "id": "14ff5b7f",
   "metadata": {},
   "outputs": [],
   "source": [
    "# \"Infinito\", no padrão, pode ser pensado como um número que é maior que qualquer outro número.\n",
    "# No caso de \"-infinito\", temos um número que é menor que qualquer outro número.\n",
    "1/0"
   ]
  },
  {
   "cell_type": "code",
   "execution_count": null,
   "id": "5fada44a",
   "metadata": {},
   "outputs": [],
   "source": [
    "print(float('inf'))\n",
    "print(float('inf') > 293818943824723984.928)\n",
    "print(-float('inf') < -293818943824723984.928)"
   ]
  },
  {
   "cell_type": "code",
   "execution_count": null,
   "id": "5d5c065e",
   "metadata": {},
   "outputs": [],
   "source": [
    "# No Numpy, não seria diferente.\n",
    "print(np.inf)\n",
    "print(np.inf > 293818943824723984.928)\n",
    "print(-np.inf < -293818943824723984.928)\n",
    "print(type(np.inf))"
   ]
  },
  {
   "cell_type": "code",
   "execution_count": null,
   "id": "2d1714ff",
   "metadata": {
    "scrolled": true
   },
   "outputs": [],
   "source": [
    "# No numpy, algumas operações podem gerar infinitos.\n",
    "x1 = np.array([1, 0, 1, 0])\n",
    "x2 = np.array([2, 1, 2, 0])\n",
    "\n",
    "print(x2 / x1)"
   ]
  },
  {
   "cell_type": "markdown",
   "id": "2fa8e736",
   "metadata": {},
   "source": [
    "Notou que tanto infinito quanto NaN são do tipo \"float\"? Não são float64, nem float32, nem anda assim.\n",
    "\n",
    "Isso é devido à hierarquia de dtypes do numpy.\n",
    "\n",
    "![hierarchy](https://numpy.org/doc/stable/_images/dtype-hierarchy.png)"
   ]
  }
 ],
 "metadata": {
  "kernelspec": {
   "display_name": "Python 3 (ipykernel)",
   "language": "python",
   "name": "python3"
  },
  "language_info": {
   "codemirror_mode": {
    "name": "ipython",
    "version": 3
   },
   "file_extension": ".py",
   "mimetype": "text/x-python",
   "name": "python",
   "nbconvert_exporter": "python",
   "pygments_lexer": "ipython3",
   "version": "3.9.13"
  },
  "vscode": {
   "interpreter": {
    "hash": "7f52069df51f55474cef70a04f6de2c8e83f851022777c4983d9d0bb63ea6184"
   }
  }
 },
 "nbformat": 4,
 "nbformat_minor": 5
}
