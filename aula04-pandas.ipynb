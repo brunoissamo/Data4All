{
 "cells": [
  {
   "cell_type": "markdown",
   "id": "4f51956c",
   "metadata": {
    "id": "4f51956c"
   },
   "source": [
    "# Pandas"
   ]
  },
  {
   "cell_type": "code",
   "execution_count": null,
   "id": "57ad54b6",
   "metadata": {
    "id": "57ad54b6"
   },
   "outputs": [],
   "source": [
    "import pandas as pd\n",
    "import numpy as np"
   ]
  },
  {
   "cell_type": "markdown",
   "id": "24b9908c",
   "metadata": {
    "id": "24b9908c"
   },
   "source": [
    "## Series\n",
    "\n",
    "O objeto fundamental do Pandas são as **Series**, uma classe do pandas.\n",
    "\n",
    "As Series são as **colunas das tabelas** (que veremos mais a frente), e por baixo dos panos, os dados ficam armazenados como **numpy arrays**!\n",
    "\n",
    "A diferença é que a série possui um **índice associado**, permitindo o acesso aos conteúdos dessa estrutura por ele, como um dicionário.\n",
    "\n",
    "Além disso, as séries têm métodos específicos além dos que vimos pra arrays, o que será super útil!\n",
    "\n",
    "Podemos criar uma série **a partir de uma lista**, usando a função do pandas `pd.Series()`: "
   ]
  },
  {
   "cell_type": "code",
   "execution_count": null,
   "id": "a55ad516",
   "metadata": {
    "colab": {
     "base_uri": "https://localhost:8080/"
    },
    "id": "a55ad516",
    "outputId": "43de853d-d967-4cf2-8204-f19c3fc116a7"
   },
   "outputs": [],
   "source": [
    "lista = [4, 6, 3, 7, 25]\n",
    "pd.Series(lista)"
   ]
  },
  {
   "cell_type": "markdown",
   "id": "9adf5705",
   "metadata": {
    "id": "9adf5705"
   },
   "source": [
    "Outra forma bem natural de construir séries é apartir de um **dicionário**\n",
    "\n",
    "Neste caso, as **chaves** se tornam as labels de índice!"
   ]
  },
  {
   "cell_type": "code",
   "execution_count": null,
   "id": "34d26c9a",
   "metadata": {
    "colab": {
     "base_uri": "https://localhost:8080/"
    },
    "id": "34d26c9a",
    "outputId": "476b5c33-8afa-42e3-a41e-278c7004678c"
   },
   "outputs": [],
   "source": [
    "dic = {\"a\": 50, \"b\" : 42}\n",
    "pd.Series(dic)"
   ]
  },
  {
   "cell_type": "markdown",
   "id": "900f88e5",
   "metadata": {
    "id": "900f88e5"
   },
   "source": [
    "Trabalhando com índices"
   ]
  },
  {
   "cell_type": "code",
   "execution_count": null,
   "id": "fd9f782a",
   "metadata": {
    "id": "fd9f782a"
   },
   "outputs": [],
   "source": [
    "indices = [\"a\", \"b\", \"c\", \"d\", \"e\"]\n",
    "serie_pandas = pd.Series(data=lista, index=indices, name=\"coluna1\")"
   ]
  },
  {
   "cell_type": "markdown",
   "id": "549a80cd",
   "metadata": {
    "id": "549a80cd"
   },
   "source": [
    "Podemos realizar o slicing na nossa Pandas Series da mesma forma como fizemos em listas e arrays, mas veja que agora os índices são letras, podemos utilizá-las para realizar o slicing ou a busca."
   ]
  },
  {
   "cell_type": "code",
   "execution_count": null,
   "id": "331d4128",
   "metadata": {
    "colab": {
     "base_uri": "https://localhost:8080/"
    },
    "id": "331d4128",
    "outputId": "e8293857-9e35-4d40-8990-737d09321fe7"
   },
   "outputs": [],
   "source": [
    "print(serie_pandas['a'])\n",
    "print(serie_pandas[0])"
   ]
  },
  {
   "cell_type": "markdown",
   "id": "fde125cd",
   "metadata": {
    "id": "fde125cd"
   },
   "source": [
    "Da mesma forma como vimos anteriormente, é possível realizar máscaras booleanas dentro da minha série."
   ]
  },
  {
   "cell_type": "code",
   "execution_count": null,
   "id": "759e080a",
   "metadata": {
    "colab": {
     "base_uri": "https://localhost:8080/"
    },
    "id": "759e080a",
    "outputId": "f5180588-a0a5-46c9-d186-5d70285ff2bb"
   },
   "outputs": [],
   "source": [
    "np.random.seed(42)\n",
    "\n",
    "notas = pd.Series(np.random.randint(3, 12, 30))\n",
    "\n",
    "# Máscara booleana simples\n",
    "notas[notas >= 0]"
   ]
  },
  {
   "cell_type": "code",
   "execution_count": null,
   "id": "ce71e2ff",
   "metadata": {
    "colab": {
     "base_uri": "https://localhost:8080/"
    },
    "id": "ce71e2ff",
    "outputId": "927248de-023b-4bcd-cd7a-dbbdc3d13156"
   },
   "outputs": [],
   "source": [
    "# Podemos utiilzar mais de um critério ao mesmo tempo com o E (AND)\n",
    "notas[((notas >= 0) & (notas <= 10))]"
   ]
  },
  {
   "cell_type": "code",
   "execution_count": null,
   "id": "ed80ce3c",
   "metadata": {
    "colab": {
     "base_uri": "https://localhost:8080/"
    },
    "id": "ed80ce3c",
    "outputId": "544217cc-d5a9-41a0-9f64-f864eca2530b"
   },
   "outputs": [],
   "source": [
    "# Podemos utiilzar mais de um critério ao mesmo tempo com o OU (OR)\n",
    "notas[((notas >= 0) | (notas <= 10))]"
   ]
  },
  {
   "cell_type": "code",
   "execution_count": null,
   "id": "d37820dd",
   "metadata": {
    "colab": {
     "base_uri": "https://localhost:8080/"
    },
    "id": "d37820dd",
    "outputId": "49c83e22-69e7-4e49-d4df-be281bb31d9a"
   },
   "outputs": [],
   "source": [
    "# E também fazer o inverso\n",
    "notas[~((notas >= 0) & (notas <= 10))]"
   ]
  },
  {
   "cell_type": "markdown",
   "id": "3c811a48",
   "metadata": {
    "id": "3c811a48"
   },
   "source": [
    "É possivel também ordenar os dados a partir de uma coluna com o **.sort_values()**"
   ]
  },
  {
   "cell_type": "code",
   "execution_count": null,
   "id": "c312fd90",
   "metadata": {
    "colab": {
     "base_uri": "https://localhost:8080/"
    },
    "id": "c312fd90",
    "outputId": "18c70fb2-98a3-4f48-9f74-5cc2b983ab95"
   },
   "outputs": [],
   "source": [
    "notas.sort_values(ascending=False)"
   ]
  },
  {
   "cell_type": "markdown",
   "id": "9a084458",
   "metadata": {
    "id": "9a084458"
   },
   "source": [
    "Para encontrar valores únicos podemos utilizar o atributo **.unique()**"
   ]
  },
  {
   "cell_type": "code",
   "execution_count": null,
   "id": "f8defffc",
   "metadata": {
    "colab": {
     "base_uri": "https://localhost:8080/"
    },
    "id": "f8defffc",
    "outputId": "f5ee4749-df0f-42f3-baa8-4bf0a742709d"
   },
   "outputs": [],
   "source": [
    "notas.unique()"
   ]
  },
  {
   "cell_type": "markdown",
   "id": "a04d3d8a",
   "metadata": {
    "id": "a04d3d8a"
   },
   "source": [
    "Podemos mostrar a frequência absoluta com o atributo **.value_counts()**"
   ]
  },
  {
   "cell_type": "code",
   "execution_count": null,
   "id": "85beecb9",
   "metadata": {
    "colab": {
     "base_uri": "https://localhost:8080/"
    },
    "id": "85beecb9",
    "outputId": "550d56a8-df99-4702-a8a9-fc3e8aa4d121"
   },
   "outputs": [],
   "source": [
    "notas.value_counts()"
   ]
  },
  {
   "cell_type": "code",
   "execution_count": null,
   "id": "4ebe467d",
   "metadata": {
    "colab": {
     "base_uri": "https://localhost:8080/"
    },
    "id": "4ebe467d",
    "outputId": "f3aaaa9f-b7fa-4690-f7f0-f4081aba73da"
   },
   "outputs": [],
   "source": [
    "# frequencia relativa\n",
    "notas.value_counts(normalize=True)"
   ]
  },
  {
   "cell_type": "markdown",
   "id": "44612acf",
   "metadata": {
    "id": "44612acf"
   },
   "source": [
    "### DataFrame\n",
    "\n",
    "Agora que conhecemos as séries, vamos partir pro objeto do Pandas que mais utilizaremos: o **DataFrame**\n",
    "\n",
    "Como veremos a seguir, o DataFrame é uma estrutura que se assemalha a uma **tabela**.\n",
    "\n",
    "Estruturalmente, o DataFrame nada mais é que um **conjunto de Series**, uma para cada coluna (e, claro, com mesmo índice, que irão indexar as linhas).\n",
    "  \n",
    "Veremos depois como **ler um dataframe a partir de um arquivo** (que é provavelmente a forma mais comum)\n",
    "\n",
    "Há muitas formas de construir um DataFrame do zero. Todas elas fazem uso da função **pd.DataFrame()**, como veremos a seguir.\n",
    "\n",
    "Se quisermos especificar os índices de linha, o nome das colunas, e os dados, podemos passá-los separadamente: "
   ]
  },
  {
   "cell_type": "code",
   "execution_count": null,
   "id": "e5981a41",
   "metadata": {
    "colab": {
     "base_uri": "https://localhost:8080/"
    },
    "id": "e5981a41",
    "outputId": "031819e0-0c68-4739-fafe-8906feefbf6b"
   },
   "outputs": [],
   "source": [
    "# gerando uma matriz (5, 3) de numeros inteiros aleatórios entre -100 e 100\n",
    "# use a seed 42\n",
    "\n",
    "np.random.seed(42)\n",
    "\n",
    "m = np.random.randint(-100, 100, (5, 3))\n",
    "\n",
    "m"
   ]
  },
  {
   "cell_type": "code",
   "execution_count": null,
   "id": "1f84a04d",
   "metadata": {
    "colab": {
     "base_uri": "https://localhost:8080/",
     "height": 206
    },
    "id": "1f84a04d",
    "outputId": "dbd9efa0-bb0e-47b8-f62a-e4bf007aacf1"
   },
   "outputs": [],
   "source": [
    "pd.DataFrame(m)"
   ]
  },
  {
   "cell_type": "code",
   "execution_count": null,
   "id": "f7370101",
   "metadata": {
    "colab": {
     "base_uri": "https://localhost:8080/",
     "height": 206
    },
    "id": "f7370101",
    "outputId": "14eba0be-222c-4257-c3da-58c84f44e75b"
   },
   "outputs": [],
   "source": [
    "df_nome_linhas = pd.DataFrame(m, \n",
    "                              index = [\"obs1\", \"obs2\", \"obs3\", \"obs4\", \"obs5\"], \n",
    "                              columns = [\"variável 1\", 'variável 2', \"variável 3\"])\n",
    "\n",
    "df_nome_linhas"
   ]
  },
  {
   "cell_type": "markdown",
   "id": "f4b33c96",
   "metadata": {
    "id": "f4b33c96"
   },
   "source": [
    "A partir de um arquivo"
   ]
  },
  {
   "cell_type": "code",
   "execution_count": null,
   "id": "63d89672",
   "metadata": {
    "id": "63d89672"
   },
   "outputs": [],
   "source": [
    "df = pd.read_table('dados_religiao_income.txt',\n",
    "                   header=0, sep=' ')"
   ]
  },
  {
   "cell_type": "code",
   "execution_count": null,
   "id": "1bbd1518",
   "metadata": {
    "colab": {
     "base_uri": "https://localhost:8080/",
     "height": 363
    },
    "id": "1bbd1518",
    "outputId": "a6a21af7-2d20-413a-c25a-c467827202ff",
    "scrolled": true
   },
   "outputs": [],
   "source": [
    "df"
   ]
  },
  {
   "cell_type": "markdown",
   "id": "1376b3ff",
   "metadata": {
    "id": "1376b3ff"
   },
   "source": [
    "O potencial do pandas é melhor aproveitado quando usamos o conceito de \"tidy data\" para organizarmos nossos dados.\n",
    "\n",
    "Nos dados acima, eles estão pivoteados por segmentos de rendimento.\n",
    "\n",
    "Vamos então tentar ajustar isso."
   ]
  },
  {
   "cell_type": "markdown",
   "id": "3722dcce",
   "metadata": {
    "id": "3722dcce"
   },
   "source": [
    "Para listarmos as colunas o DataFrame possui um atributo .columns que imprime esta informação em formato de lista."
   ]
  },
  {
   "cell_type": "code",
   "execution_count": null,
   "id": "2b890cd2",
   "metadata": {
    "colab": {
     "base_uri": "https://localhost:8080/"
    },
    "id": "2b890cd2",
    "outputId": "b8593a5d-0c91-497f-e74a-c67d3b8ab4c9"
   },
   "outputs": [],
   "source": [
    "df.columns"
   ]
  },
  {
   "cell_type": "code",
   "execution_count": null,
   "id": "1625d2b9",
   "metadata": {
    "colab": {
     "base_uri": "https://localhost:8080/"
    },
    "id": "1625d2b9",
    "outputId": "bdc68a96-1682-40bd-91b0-922c2195a2d9"
   },
   "outputs": [],
   "source": [
    "# Veja que podemos trabalhar como listas normalmente\n",
    "value_cols = [col for col in df.columns if col != 'religion']\n",
    "value_cols"
   ]
  },
  {
   "cell_type": "markdown",
   "id": "c4698cb6",
   "metadata": {
    "id": "c4698cb6"
   },
   "source": [
    "## Funções Pandas\n",
    "  \n",
    "### melt  \n",
    "https://pandas.pydata.org/pandas-docs/stable/reference/api/pandas.melt.html"
   ]
  },
  {
   "cell_type": "code",
   "execution_count": null,
   "id": "7d86e92f",
   "metadata": {
    "colab": {
     "base_uri": "https://localhost:8080/",
     "height": 1000
    },
    "id": "7d86e92f",
    "outputId": "b121d94d-59b0-40ec-eea0-cb0caa2bc8f1"
   },
   "outputs": [],
   "source": [
    "# Podemos utilizar a função do Pandas .melt para alterar a visão do dataframe\n",
    "new_df = pd.melt(df, id_vars=['religion'], \n",
    "                 value_vars=value_cols,\n",
    "                 var_name='income', \n",
    "                 value_name='freq')\n",
    "\n",
    "new_df"
   ]
  },
  {
   "cell_type": "markdown",
   "id": "e52bc00d",
   "metadata": {
    "id": "e52bc00d"
   },
   "source": [
    "### pivot_table"
   ]
  },
  {
   "cell_type": "code",
   "execution_count": null,
   "id": "f1295a46",
   "metadata": {
    "colab": {
     "base_uri": "https://localhost:8080/",
     "height": 394
    },
    "id": "f1295a46",
    "outputId": "8cb95648-3595-44e4-b9ff-7c665f479fa9"
   },
   "outputs": [],
   "source": [
    "# Podemos voltar para o formato anterior, que facilita apresentações para o negócio.\n",
    "# Usamos o método pivot.\n",
    "new_df.pivot(index='religion', columns='income', values='freq')"
   ]
  },
  {
   "cell_type": "code",
   "execution_count": null,
   "id": "0ff46a1d",
   "metadata": {
    "colab": {
     "base_uri": "https://localhost:8080/",
     "height": 394
    },
    "id": "0ff46a1d",
    "outputId": "0b697644-33ec-4db0-98b2-941900178acb"
   },
   "outputs": [],
   "source": [
    "new_df.pivot_table(index='religion', columns='income', values='freq', aggfunc='mean')"
   ]
  },
  {
   "cell_type": "markdown",
   "id": "d05140f2",
   "metadata": {
    "id": "d05140f2"
   },
   "source": [
    "### Concat  \n",
    "  \n",
    "É possível realizar a concatenação de dois ou mais dataframes por meio do método \"concat\"."
   ]
  },
  {
   "cell_type": "code",
   "execution_count": null,
   "id": "4c01f6ca",
   "metadata": {
    "colab": {
     "base_uri": "https://localhost:8080/",
     "height": 143
    },
    "id": "4c01f6ca",
    "outputId": "2ce6e0e0-a66a-4f2f-d78c-e373df1734f1"
   },
   "outputs": [],
   "source": [
    "# Criação de DataFrames por meio de dicionários\n",
    "df1 = pd.DataFrame({'nome':['eu', 'tu', 'ele/ela'],\n",
    "                    'val':[1, 1, 1]})\n",
    "\n",
    "# Criação de DataFrames por meio de listas\n",
    "lista_valores = [['nós', 2],\n",
    "                 ['vós', 2],\n",
    "                 ['eles/elas', 2]]\n",
    "df2 = pd.DataFrame(lista_valores, columns=['nome', 'val'])\n",
    "df2"
   ]
  },
  {
   "cell_type": "code",
   "execution_count": null,
   "id": "e6271650",
   "metadata": {
    "colab": {
     "base_uri": "https://localhost:8080/",
     "height": 237
    },
    "id": "e6271650",
    "outputId": "de611b71-f27c-4e42-f326-4d967d3898d6"
   },
   "outputs": [],
   "source": [
    "# Repare que por padrão o pandas já realiza o empilhamento dos dois dataframes, mas os índices estão confusos\n",
    "pd.concat([df1, df2])"
   ]
  },
  {
   "cell_type": "code",
   "execution_count": null,
   "id": "0c0d36f6",
   "metadata": {
    "id": "0c0d36f6"
   },
   "outputs": [],
   "source": [
    "# Utilizamos o método .copy() para fazermos uma cópia do dataframe\n",
    "new_df2 = df2.copy()\n",
    "\n",
    "# O atributo .index do dataframe chama os índices\n",
    "new_df2.index = [4, 5, 6]"
   ]
  },
  {
   "cell_type": "code",
   "execution_count": null,
   "id": "487037cc",
   "metadata": {
    "colab": {
     "base_uri": "https://localhost:8080/",
     "height": 143
    },
    "id": "487037cc",
    "outputId": "84daf49a-d1a9-4d88-f371-31341b450a21"
   },
   "outputs": [],
   "source": [
    "new_df2"
   ]
  },
  {
   "cell_type": "markdown",
   "id": "6e36495e",
   "metadata": {
    "id": "6e36495e"
   },
   "source": [
    "Caso se queira colocar um do lado do outro, invés de em cima, usamos o parâmetro \"axis\"."
   ]
  },
  {
   "cell_type": "code",
   "execution_count": null,
   "id": "c9432ff2",
   "metadata": {
    "colab": {
     "base_uri": "https://localhost:8080/",
     "height": 143
    },
    "id": "c9432ff2",
    "outputId": "e29293a4-389d-4fc7-d4c9-9f38484ac717"
   },
   "outputs": [],
   "source": [
    "# Agora ao passarmos o axis=1 ele entende que desejamos realizar uma concatenação \"lateral\" - também conhecido como merge\n",
    "pd.concat([df1, df2], axis=1)"
   ]
  },
  {
   "cell_type": "code",
   "execution_count": null,
   "id": "dbd65fc8",
   "metadata": {
    "colab": {
     "base_uri": "https://localhost:8080/",
     "height": 237
    },
    "id": "dbd65fc8",
    "outputId": "49183ee3-a24c-4de5-e477-023455f1ab72"
   },
   "outputs": [],
   "source": [
    "pd.concat([df1, new_df2], axis=1)"
   ]
  },
  {
   "cell_type": "markdown",
   "id": "8c438538",
   "metadata": {
    "id": "8c438538"
   },
   "source": [
    "### Rename\n",
    "  \n",
    "O rename é utilizado para renomear labels do dataframe"
   ]
  },
  {
   "cell_type": "code",
   "execution_count": null,
   "id": "2bbfe391",
   "metadata": {
    "colab": {
     "base_uri": "https://localhost:8080/",
     "height": 143
    },
    "id": "2bbfe391",
    "outputId": "30d752fb-b3b9-4b13-a789-12559fb49cb8"
   },
   "outputs": [],
   "source": [
    "# Para renomearmos as colunas de um dataframe utilizamos um dicionário tendo como chave o valor antigo e valor o novo\n",
    "df1.rename(columns={'nome': 'nome_alterado'})"
   ]
  },
  {
   "cell_type": "code",
   "execution_count": null,
   "id": "_QC-4i8kMUF6",
   "metadata": {
    "colab": {
     "base_uri": "https://localhost:8080/",
     "height": 143
    },
    "id": "_QC-4i8kMUF6",
    "outputId": "13a30a53-b4cd-4bbe-b1ae-a7accb588322"
   },
   "outputs": [],
   "source": [
    "df1.columns = ['nome_modificado', 'valor']\n",
    "df1.head()"
   ]
  },
  {
   "cell_type": "markdown",
   "id": "8c30e202",
   "metadata": {
    "id": "8c30e202"
   },
   "source": [
    "## Exploração de dados: Estatísticas"
   ]
  },
  {
   "cell_type": "code",
   "execution_count": null,
   "id": "62e39ca4",
   "metadata": {
    "id": "62e39ca4"
   },
   "outputs": [],
   "source": [
    "df = pd.read_table('dados_parciais.txt', sep=';', decimal=',')"
   ]
  },
  {
   "cell_type": "markdown",
   "id": "e8bcaff8",
   "metadata": {
    "id": "e8bcaff8"
   },
   "source": [
    "### Head"
   ]
  },
  {
   "cell_type": "code",
   "execution_count": null,
   "id": "d2c16cfb",
   "metadata": {
    "colab": {
     "base_uri": "https://localhost:8080/",
     "height": 143
    },
    "id": "d2c16cfb",
    "outputId": "91dbe742-e282-419c-ffa3-b8aa46136212"
   },
   "outputs": [],
   "source": [
    "# O head é utilizado para observarmos o início de um dataframe\n",
    "df.head(3)"
   ]
  },
  {
   "cell_type": "markdown",
   "id": "05351d5c",
   "metadata": {
    "id": "05351d5c"
   },
   "source": [
    "### Tail"
   ]
  },
  {
   "cell_type": "code",
   "execution_count": null,
   "id": "82730f0d",
   "metadata": {
    "colab": {
     "base_uri": "https://localhost:8080/",
     "height": 143
    },
    "id": "82730f0d",
    "outputId": "edb746fe-96b3-4a1d-f146-1fd39d7a3254"
   },
   "outputs": [],
   "source": [
    "# O tail é utilizado para observarmos o final de um dataframe\n",
    "df.tail(3)"
   ]
  },
  {
   "cell_type": "markdown",
   "id": "51572bbf",
   "metadata": {
    "id": "51572bbf"
   },
   "source": [
    "### Describe"
   ]
  },
  {
   "cell_type": "code",
   "execution_count": null,
   "id": "b44ad19f",
   "metadata": {
    "colab": {
     "base_uri": "https://localhost:8080/",
     "height": 300
    },
    "id": "b44ad19f",
    "outputId": "d2a7ffda-0bf9-4974-bf75-c94ea1c85904"
   },
   "outputs": [],
   "source": [
    "# Podemos sumarizar algumas estatísticas de várias colunas de uma única vez.\n",
    "df.describe()"
   ]
  },
  {
   "cell_type": "code",
   "execution_count": null,
   "id": "EJGmc6E2N1BS",
   "metadata": {
    "colab": {
     "base_uri": "https://localhost:8080/"
    },
    "id": "EJGmc6E2N1BS",
    "outputId": "b252e2ef-9d83-4e59-db40-328e179d97af"
   },
   "outputs": [],
   "source": [
    "stats = df.describe()\n",
    "type(stats)"
   ]
  },
  {
   "cell_type": "code",
   "execution_count": null,
   "id": "psxiEMVvOA5t",
   "metadata": {
    "colab": {
     "base_uri": "https://localhost:8080/"
    },
    "id": "psxiEMVvOA5t",
    "outputId": "32bd5f61-c272-4c81-b49b-2912af680c9b"
   },
   "outputs": [],
   "source": [
    "stats['pop_urbana']"
   ]
  },
  {
   "cell_type": "code",
   "execution_count": null,
   "id": "rMtWPCYpRqRl",
   "metadata": {
    "colab": {
     "base_uri": "https://localhost:8080/"
    },
    "id": "rMtWPCYpRqRl",
    "outputId": "7cf4c123-d484-4e1a-c8d0-1709bd892e6f"
   },
   "outputs": [],
   "source": [
    "salarios = [5000, 3000, 6000, 15000, 4000, 45000, 40000, 50000]\n",
    "\n",
    "import numpy as np\n",
    "\n",
    "print('Média:', np.mean(salarios))\n",
    "print('Mediana:', np.median(salarios))"
   ]
  },
  {
   "cell_type": "markdown",
   "id": "5f46ac7e",
   "metadata": {
    "id": "5f46ac7e"
   },
   "source": [
    "### Outras estatísticas"
   ]
  },
  {
   "cell_type": "code",
   "execution_count": null,
   "id": "jk8HwVKRSnGn",
   "metadata": {
    "colab": {
     "base_uri": "https://localhost:8080/"
    },
    "id": "jk8HwVKRSnGn",
    "outputId": "19a0d396-4122-479e-e45a-53735b92c55f"
   },
   "outputs": [],
   "source": [
    "# calculando uma estatística por vez\n",
    "df.mean()"
   ]
  },
  {
   "cell_type": "code",
   "execution_count": null,
   "id": "TmJeqRIIS3G0",
   "metadata": {
    "colab": {
     "base_uri": "https://localhost:8080/"
    },
    "id": "TmJeqRIIS3G0",
    "outputId": "2ba98217-88af-4424-f4f6-96816e910fd8"
   },
   "outputs": [],
   "source": [
    "df.median()"
   ]
  },
  {
   "cell_type": "code",
   "execution_count": null,
   "id": "MyADP8nSS6mm",
   "metadata": {
    "colab": {
     "base_uri": "https://localhost:8080/",
     "height": 112
    },
    "id": "MyADP8nSS6mm",
    "outputId": "ee6ded62-b960-4a1d-f783-da3c200780dc"
   },
   "outputs": [],
   "source": [
    "df.quantile([0.25, 0.75])"
   ]
  },
  {
   "cell_type": "code",
   "execution_count": null,
   "id": "izufBy8KTbOb",
   "metadata": {
    "colab": {
     "base_uri": "https://localhost:8080/",
     "height": 112
    },
    "id": "izufBy8KTbOb",
    "outputId": "fc895601-86f7-4ff8-acc4-a76b5c1dc649"
   },
   "outputs": [],
   "source": [
    "df.quantile([0.01, 0.99])"
   ]
  },
  {
   "cell_type": "code",
   "execution_count": null,
   "id": "30P1UMeNUK1l",
   "metadata": {
    "colab": {
     "base_uri": "https://localhost:8080/"
    },
    "id": "30P1UMeNUK1l",
    "outputId": "1e6c1fd5-3f26-4c62-ff33-a87d3a1b0525"
   },
   "outputs": [],
   "source": [
    "df.min(numeric_only=True)"
   ]
  },
  {
   "cell_type": "code",
   "execution_count": null,
   "id": "rCjNVtseUW6l",
   "metadata": {
    "colab": {
     "base_uri": "https://localhost:8080/",
     "height": 206
    },
    "id": "rCjNVtseUW6l",
    "outputId": "a287bfde-5ba4-4bbe-b4af-40778ae9b661"
   },
   "outputs": [],
   "source": [
    "df.head()"
   ]
  },
  {
   "cell_type": "code",
   "execution_count": null,
   "id": "mw_lIPP1Ui_8",
   "metadata": {
    "colab": {
     "base_uri": "https://localhost:8080/",
     "height": 237
    },
    "id": "mw_lIPP1Ui_8",
    "outputId": "bf2f0c34-928f-49b7-a4f7-9060a617f944"
   },
   "outputs": [],
   "source": [
    "# se quisermos estatísticas separadas por região\n",
    "df.groupby('regiao').mean()"
   ]
  },
  {
   "cell_type": "markdown",
   "id": "9cc2b3b5",
   "metadata": {
    "id": "9cc2b3b5"
   },
   "source": [
    "### Importando novo Dataframe"
   ]
  },
  {
   "cell_type": "code",
   "execution_count": null,
   "id": "09fa7238",
   "metadata": {},
   "outputs": [],
   "source": [
    "# importando o dataframe de municípios\n",
    "df_muni = pd.read_table('populacao_brasileira_por_municipio.txt')"
   ]
  },
  {
   "cell_type": "code",
   "execution_count": null,
   "id": "7L-JQlU8VIC0",
   "metadata": {
    "id": "7L-JQlU8VIC0"
   },
   "outputs": [],
   "source": [
    "# importando o dataframe de municípios\n",
    "df_muni = pd.read_table('populacao_brasileira_por_municipio.txt',\n",
    "                        sep=';', thousands='.')"
   ]
  },
  {
   "cell_type": "code",
   "execution_count": null,
   "id": "wyubOqaFVqzi",
   "metadata": {
    "colab": {
     "base_uri": "https://localhost:8080/",
     "height": 363
    },
    "id": "wyubOqaFVqzi",
    "outputId": "f6af2cd6-f6a9-4779-fb64-39f3357d3188"
   },
   "outputs": [],
   "source": [
    "df_muni.head(10)"
   ]
  },
  {
   "cell_type": "markdown",
   "id": "8e83c773",
   "metadata": {
    "id": "8e83c773"
   },
   "source": [
    "### Colunas\n",
    "  \n",
    "Podemos acessar os dados de uma colunas de três métodos"
   ]
  },
  {
   "cell_type": "code",
   "execution_count": null,
   "id": "SKJugtfJV1WL",
   "metadata": {
    "colab": {
     "base_uri": "https://localhost:8080/"
    },
    "id": "SKJugtfJV1WL",
    "outputId": "630b0fb7-1123-46a3-be68-a00489064ea1"
   },
   "outputs": [],
   "source": [
    "df.uf"
   ]
  },
  {
   "cell_type": "code",
   "execution_count": null,
   "id": "um1RZvWRWDeN",
   "metadata": {
    "colab": {
     "base_uri": "https://localhost:8080/"
    },
    "id": "um1RZvWRWDeN",
    "outputId": "2973fdc1-f1bc-468f-c66d-470dc2c35b40"
   },
   "outputs": [],
   "source": [
    "type(df.uf)"
   ]
  },
  {
   "cell_type": "code",
   "execution_count": null,
   "id": "Cu_Mpbv6WJV8",
   "metadata": {
    "colab": {
     "base_uri": "https://localhost:8080/"
    },
    "id": "Cu_Mpbv6WJV8",
    "outputId": "21e6e9da-6875-45f6-bf39-4b34820837ba"
   },
   "outputs": [],
   "source": [
    "df['uf']"
   ]
  },
  {
   "cell_type": "code",
   "execution_count": null,
   "id": "_AVKeoVoWPaL",
   "metadata": {
    "colab": {
     "base_uri": "https://localhost:8080/"
    },
    "id": "_AVKeoVoWPaL",
    "outputId": "384f7dd4-eca5-4b3f-a068-b273046a3157"
   },
   "outputs": [],
   "source": [
    "type(df['uf'])"
   ]
  },
  {
   "cell_type": "code",
   "execution_count": null,
   "id": "-ZkZu9QTWRnz",
   "metadata": {
    "colab": {
     "base_uri": "https://localhost:8080/",
     "height": 959
    },
    "id": "-ZkZu9QTWRnz",
    "outputId": "0811c96b-a4bf-49d7-e8d9-df7f7e63206a"
   },
   "outputs": [],
   "source": [
    "# terceira forma - retorna um dataframe\n",
    "df[['uf']]"
   ]
  },
  {
   "cell_type": "code",
   "execution_count": null,
   "id": "8T1tXrEHWcWr",
   "metadata": {
    "colab": {
     "base_uri": "https://localhost:8080/"
    },
    "id": "8T1tXrEHWcWr",
    "outputId": "a85729be-f86e-4999-e3bc-36a028ce1cb0"
   },
   "outputs": [],
   "source": [
    "type(df[['uf']])"
   ]
  },
  {
   "cell_type": "markdown",
   "id": "c33b2cbc",
   "metadata": {
    "id": "c33b2cbc"
   },
   "source": [
    "### Query\n",
    "  \n",
    "O método query permite realizar filtros dentro do nosso dataframe semelhante ao utilizado na linguagem SQL na clausula where"
   ]
  },
  {
   "cell_type": "code",
   "execution_count": null,
   "id": "BA0l_z1SX5nb",
   "metadata": {
    "colab": {
     "base_uri": "https://localhost:8080/",
     "height": 802
    },
    "id": "BA0l_z1SX5nb",
    "outputId": "be5f5ff7-526a-4795-984d-22e470a23a2d"
   },
   "outputs": [],
   "source": [
    "# quero saber quais cidades tem população urbana > 500000\n",
    "df.query('pop_urbana > 500000')"
   ]
  },
  {
   "cell_type": "code",
   "execution_count": null,
   "id": "d2bpYmWcYeXi",
   "metadata": {
    "colab": {
     "base_uri": "https://localhost:8080/",
     "height": 802
    },
    "id": "d2bpYmWcYeXi",
    "outputId": "ba7e8679-327d-4d62-9be3-543f85cb1b30"
   },
   "outputs": [],
   "source": [
    "# podemos usar uma variável\n",
    "limite = 500000\n",
    "df.query(\"`pop_urbana` > @limite\")"
   ]
  },
  {
   "cell_type": "markdown",
   "id": "Ylh4h5RMY6Iq",
   "metadata": {
    "id": "Ylh4h5RMY6Iq"
   },
   "source": [
    "### .loc e .iloc"
   ]
  },
  {
   "cell_type": "code",
   "execution_count": null,
   "id": "OZOH9gR2ZBTq",
   "metadata": {
    "colab": {
     "base_uri": "https://localhost:8080/"
    },
    "id": "OZOH9gR2ZBTq",
    "outputId": "dd6448fd-8db2-4da1-f4ab-ce617d89a658"
   },
   "outputs": [],
   "source": [
    "# .loc usado para pesquisar índices e colunas explicitamente\n",
    "\n",
    "# quero a população urbana da segunda linha do dataset\n",
    "df.loc[1, 'pop_urbana']"
   ]
  },
  {
   "cell_type": "code",
   "execution_count": null,
   "id": "Myogr1imZcRp",
   "metadata": {
    "colab": {
     "base_uri": "https://localhost:8080/"
    },
    "id": "Myogr1imZcRp",
    "outputId": "1f1aa56d-7cb4-49d9-b1bc-13d563d76c70"
   },
   "outputs": [],
   "source": [
    "# qual estado corresponde à segunda linha do dataset\n",
    "df.loc[1, :]"
   ]
  },
  {
   "cell_type": "code",
   "execution_count": null,
   "id": "zf3Kv9j5ZnuS",
   "metadata": {
    "colab": {
     "base_uri": "https://localhost:8080/"
    },
    "id": "zf3Kv9j5ZnuS",
    "outputId": "5817c69e-ab97-475e-d9b0-fa91e0cbf373"
   },
   "outputs": [],
   "source": [
    "# posso usar lógicas para filtrar o dataset\n",
    "\n",
    "# quais estados pertencem à região NE?\n",
    "df.loc[df.regiao == 'Nordeste', 'uf']"
   ]
  },
  {
   "cell_type": "code",
   "execution_count": null,
   "id": "V0alUfbZZ-OL",
   "metadata": {
    "colab": {
     "base_uri": "https://localhost:8080/"
    },
    "id": "V0alUfbZZ-OL",
    "outputId": "e7f89def-24c6-4662-dcd7-c98284d59c5f"
   },
   "outputs": [],
   "source": [
    "# quais estados pertencem à região NE e N?\n",
    "df.loc[(df.regiao == 'Nordeste') | (df.regiao == 'Norte'), 'uf']"
   ]
  },
  {
   "cell_type": "code",
   "execution_count": null,
   "id": "vqoK683rajf7",
   "metadata": {
    "colab": {
     "base_uri": "https://localhost:8080/"
    },
    "id": "vqoK683rajf7",
    "outputId": "eda5723c-4e88-4e49-8590-fac1b60996f4"
   },
   "outputs": [],
   "source": [
    "# iloc faz a referência aos índices e colunas de forma implícita\n",
    "df.iloc[2, 2]"
   ]
  },
  {
   "cell_type": "code",
   "execution_count": null,
   "id": "mN3rH8mcbP05",
   "metadata": {
    "colab": {
     "base_uri": "https://localhost:8080/",
     "height": 237
    },
    "id": "mN3rH8mcbP05",
    "outputId": "de2761cf-402e-45e6-ca10-f088f91ccdc6"
   },
   "outputs": [],
   "source": [
    "# definir a coluna uf como a coluna de índice\n",
    "df = df.set_index(['uf'])\n",
    "df.head()"
   ]
  },
  {
   "cell_type": "code",
   "execution_count": null,
   "id": "aFE166lZbZUK",
   "metadata": {
    "colab": {
     "base_uri": "https://localhost:8080/"
    },
    "id": "aFE166lZbZUK",
    "outputId": "35f7af77-3ca3-4b18-8b17-b3f9da3b49a8"
   },
   "outputs": [],
   "source": [
    "# desejo obter a população rural do AC\n",
    "\n",
    "# loc (explícito)\n",
    "print('Valor desejado', df.loc['AC', 'pop_rural'])\n",
    "\n",
    "# iloc (implícito)\n",
    "print('Valor desejado', df.iloc[1, 3])"
   ]
  },
  {
   "cell_type": "code",
   "execution_count": null,
   "id": "Tw6Djxwsb_0p",
   "metadata": {
    "colab": {
     "base_uri": "https://localhost:8080/",
     "height": 112
    },
    "id": "Tw6Djxwsb_0p",
    "outputId": "de7cf4ba-8764-4497-dbce-b239f2a7fab8"
   },
   "outputs": [],
   "source": [
    "# queremos as cidades que têm menos de 500000 habitantes (total)\n",
    "df.loc[df.total < 500000, :].head(1)"
   ]
  },
  {
   "cell_type": "markdown",
   "id": "6943b036",
   "metadata": {
    "id": "6943b036"
   },
   "source": [
    "### Operações matemáticas"
   ]
  },
  {
   "cell_type": "code",
   "execution_count": null,
   "id": "vJBNnEygif7_",
   "metadata": {
    "colab": {
     "base_uri": "https://localhost:8080/",
     "height": 237
    },
    "id": "vJBNnEygif7_",
    "outputId": "92fe1748-df0e-4356-d799-46b012b0a283"
   },
   "outputs": [],
   "source": [
    "# quero saber a razão entre as população urbana e a população rural\n",
    "df['razao_urbana_rural'] = df['pop_urbana'] / df['pop_rural']\n",
    "df.head()"
   ]
  },
  {
   "cell_type": "code",
   "execution_count": null,
   "id": "BIkUlBcEkYM3",
   "metadata": {
    "id": "BIkUlBcEkYM3"
   },
   "outputs": [],
   "source": [
    "# se eu chamar uma coluna inexiste em modo de leitura\n",
    "df['frac_urbana']"
   ]
  },
  {
   "cell_type": "code",
   "execution_count": null,
   "id": "DP0ZocXEkmU9",
   "metadata": {
    "id": "DP0ZocXEkmU9"
   },
   "outputs": [],
   "source": [
    "# calcular a fração da população urbana sobre a geral\n",
    "df['frac_urbana'] = df['pop_urbana'] / df['total']"
   ]
  },
  {
   "cell_type": "code",
   "execution_count": null,
   "id": "9Lk7P0-nlEX9",
   "metadata": {
    "id": "9Lk7P0-nlEX9"
   },
   "outputs": [],
   "source": [
    "# iterar por cada linha e atribuir 1 se frac_urbana > 0.7 e 0 caso contrário\n",
    "for uf in df.index:\n",
    "    if df.loc[uf, 'frac_urbana'] > 0.7:\n",
    "        df.loc[uf, 'indicador'] = 1\n",
    "    else:\n",
    "        df.loc[uf, 'indicador'] = 0"
   ]
  },
  {
   "cell_type": "code",
   "execution_count": null,
   "id": "XByJiHoOl6IN",
   "metadata": {
    "id": "XByJiHoOl6IN"
   },
   "outputs": [],
   "source": [
    "df['indicador'] = df['frac_urbana'].apply(lambda x: 1 if x > 0.7 else 0)"
   ]
  },
  {
   "cell_type": "code",
   "execution_count": null,
   "id": "L3YZBNx6ljMl",
   "metadata": {
    "colab": {
     "base_uri": "https://localhost:8080/",
     "height": 237
    },
    "id": "L3YZBNx6ljMl",
    "outputId": "1c4498e6-d4b4-45a8-b67b-d392f5d5fb7b"
   },
   "outputs": [],
   "source": [
    "df.head()"
   ]
  },
  {
   "cell_type": "code",
   "execution_count": null,
   "id": "4cbkC3Dlm-kl",
   "metadata": {
    "colab": {
     "base_uri": "https://localhost:8080/",
     "height": 301
    },
    "id": "4cbkC3Dlm-kl",
    "outputId": "55abe95e-3e6d-46a9-ea05-59f95068a0a9"
   },
   "outputs": [],
   "source": [
    "ponto_cardeal = {\n",
    "    'Nordeste': 'NE',\n",
    "    'Centro-Oeste': 'CO',\n",
    "    'Sul': 'S',\n",
    "    'Sudeste': 'SE'\n",
    "}\n",
    "\n",
    "# podemos fazer transformações com dicionários\n",
    "df['regiao_pc'] = df['regiao'].map(ponto_cardeal)\n",
    "df.head()"
   ]
  },
  {
   "cell_type": "code",
   "execution_count": null,
   "id": "eLgVeA9_nkDN",
   "metadata": {
    "id": "eLgVeA9_nkDN"
   },
   "outputs": [],
   "source": [
    "def soma_quadrados(row):\n",
    "\n",
    "  soma = (row['pop_urbana']**2 + row['pop_rural']**2) / (row['total'] ** 2)\n",
    "\n",
    "  return soma"
   ]
  },
  {
   "cell_type": "code",
   "execution_count": null,
   "id": "Ie7R1GfhoBjF",
   "metadata": {
    "colab": {
     "base_uri": "https://localhost:8080/",
     "height": 301
    },
    "id": "Ie7R1GfhoBjF",
    "outputId": "efd71370-5045-4239-f46a-d02881a45a7b"
   },
   "outputs": [],
   "source": [
    "# usando o apply em múltiplas colunas\n",
    "df['indicador2'] = df.apply(soma_quadrados, axis=1)\n",
    "\n",
    "df.head()"
   ]
  },
  {
   "cell_type": "markdown",
   "id": "83fa77ad",
   "metadata": {
    "id": "83fa77ad"
   },
   "source": [
    "### Merge (join)\n",
    "\n",
    "Outra tarefa muito comum quando estamos trabalhando com bases de dados é o **cruzamento**\n",
    "\n",
    "Para fazer isso, utilizamos o método **.merge()**, cujos modos de cruzamento são:\n",
    "\n",
    "<img src=\"https://community.qlik.com/legacyfs/online/87693_all-joins.png\" width=450>"
   ]
  },
  {
   "cell_type": "code",
   "execution_count": null,
   "id": "b040ed61",
   "metadata": {},
   "outputs": [],
   "source": [
    "lista_on_left = [1, 2, 3, 4, 5, 6, 7, 8, 9, 10]\n",
    "lista_on_right = [1, 3, 5, 7, 9, 11]"
   ]
  },
  {
   "cell_type": "code",
   "execution_count": null,
   "id": "0e16ddb7",
   "metadata": {},
   "outputs": [],
   "source": [
    "dict_left = {'coluna_on': lista_on_left, 'valores_esquerda': lista_on_left}\n",
    "dict_right = {'coluna_on': lista_on_right, 'valores_direita': lista_on_right}\n",
    "\n",
    "df_left = pd.DataFrame(dict_left)\n",
    "df_left"
   ]
  },
  {
   "cell_type": "code",
   "execution_count": null,
   "id": "fa161cf8",
   "metadata": {},
   "outputs": [],
   "source": [
    "df_right = pd.DataFrame(dict_right)\n",
    "df_right"
   ]
  },
  {
   "cell_type": "code",
   "execution_count": null,
   "id": "3d68d3db",
   "metadata": {},
   "outputs": [],
   "source": [
    "df_left.merge(df_right, how='outer')"
   ]
  },
  {
   "cell_type": "code",
   "execution_count": null,
   "id": "I611G_H1pLxF",
   "metadata": {
    "colab": {
     "base_uri": "https://localhost:8080/",
     "height": 206
    },
    "id": "I611G_H1pLxF",
    "outputId": "672d6ac2-81f5-4aba-b807-d9824bcdaeed"
   },
   "outputs": [],
   "source": [
    "df_muni.head()"
   ]
  },
  {
   "cell_type": "code",
   "execution_count": null,
   "id": "IR0UhtMapdFD",
   "metadata": {
    "colab": {
     "base_uri": "https://localhost:8080/",
     "height": 301
    },
    "id": "IR0UhtMapdFD",
    "outputId": "55e3b83d-36a0-4f4f-edea-b7e7aa48c6ad"
   },
   "outputs": [],
   "source": [
    "df.head()"
   ]
  },
  {
   "cell_type": "code",
   "execution_count": null,
   "id": "ZpNvL00ephJM",
   "metadata": {
    "colab": {
     "base_uri": "https://localhost:8080/",
     "height": 270
    },
    "id": "ZpNvL00ephJM",
    "outputId": "200e93f5-57ed-4d44-e021-b8f1426ea790"
   },
   "outputs": [],
   "source": [
    "# retirar o uf dos índices\n",
    "df = df.reset_index()\n",
    "df.head()"
   ]
  },
  {
   "cell_type": "code",
   "execution_count": null,
   "id": "VW2JsIqlpoqM",
   "metadata": {
    "colab": {
     "base_uri": "https://localhost:8080/",
     "height": 983
    },
    "id": "VW2JsIqlpoqM",
    "outputId": "66b964cb-695e-4d1f-e552-68479b45ddfe"
   },
   "outputs": [],
   "source": [
    "df_reg = df_muni.merge(df, left_on=['UF'], right_on=['uf'], how='left')\n",
    "df_reg.head(20)"
   ]
  },
  {
   "cell_type": "code",
   "execution_count": null,
   "id": "aZkO3zPDqUaz",
   "metadata": {
    "colab": {
     "base_uri": "https://localhost:8080/",
     "height": 269
    },
    "id": "aZkO3zPDqUaz",
    "outputId": "c96c33ec-6c84-4a5a-c2f3-69e4634b7e40"
   },
   "outputs": [],
   "source": [
    "# quero a média e o desvio padrão da população estimada por região\n",
    "df_reg.groupby('regiao').agg({'POPULAÇÃO ESTIMADA': ['mean', 'std', 'median']})"
   ]
  },
  {
   "cell_type": "markdown",
   "id": "deee974e",
   "metadata": {
    "id": "deee974e"
   },
   "source": [
    "**Bora praticar!**\n",
    "  \n",
    "1) Utilizando o DataFrame importado anteriormente (alunos3.csv) calcule a média das provas em uma nova coluna chamada (Media_provas)"
   ]
  },
  {
   "cell_type": "code",
   "execution_count": null,
   "id": "2828049b",
   "metadata": {
    "id": "2828049b"
   },
   "outputs": [],
   "source": []
  },
  {
   "cell_type": "markdown",
   "id": "317131ae",
   "metadata": {
    "id": "317131ae"
   },
   "source": [
    "2) Quem foram os alunos que obtiveram a maior e a menor média"
   ]
  },
  {
   "cell_type": "code",
   "execution_count": null,
   "id": "d3134f72",
   "metadata": {},
   "outputs": [],
   "source": []
  },
  {
   "cell_type": "code",
   "execution_count": null,
   "id": "25ee28f3",
   "metadata": {
    "id": "25ee28f3"
   },
   "outputs": [],
   "source": []
  },
  {
   "cell_type": "markdown",
   "id": "9078986d",
   "metadata": {
    "id": "9078986d"
   },
   "source": [
    "3) Agora una este dataframe com o cadastro_alunos.xlsx"
   ]
  },
  {
   "cell_type": "code",
   "execution_count": null,
   "id": "2ccc441b",
   "metadata": {},
   "outputs": [],
   "source": []
  },
  {
   "cell_type": "code",
   "execution_count": null,
   "id": "9636699c",
   "metadata": {
    "id": "9636699c"
   },
   "outputs": [],
   "source": []
  },
  {
   "cell_type": "markdown",
   "id": "a26fb340",
   "metadata": {
    "id": "a26fb340"
   },
   "source": [
    "4) Qual a média entre as Media_provas dentro do público feminino? e masculino?"
   ]
  },
  {
   "cell_type": "code",
   "execution_count": null,
   "id": "6c9bd524",
   "metadata": {
    "id": "6c9bd524"
   },
   "outputs": [],
   "source": []
  },
  {
   "cell_type": "markdown",
   "id": "e93d6402",
   "metadata": {
    "id": "e93d6402"
   },
   "source": [
    "5) Qual a média de idade das pessoas que obtiveram Media_provas maior ou igual a 7?"
   ]
  },
  {
   "cell_type": "code",
   "execution_count": null,
   "id": "b90d4494",
   "metadata": {
    "id": "b90d4494"
   },
   "outputs": [],
   "source": []
  },
  {
   "cell_type": "markdown",
   "id": "e4779b34",
   "metadata": {
    "id": "e4779b34"
   },
   "source": [
    "6) Faça um código para verificar o ordem das médias de Media_provas entre as cidades, mostrando o valor para cada uma bem como ordenando de forma decrescente? "
   ]
  },
  {
   "cell_type": "code",
   "execution_count": null,
   "id": "35fb9a25",
   "metadata": {},
   "outputs": [],
   "source": []
  }
 ],
 "metadata": {
  "colab": {
   "provenance": []
  },
  "kernelspec": {
   "display_name": "Python 3 (ipykernel)",
   "language": "python",
   "name": "python3"
  },
  "language_info": {
   "codemirror_mode": {
    "name": "ipython",
    "version": 3
   },
   "file_extension": ".py",
   "mimetype": "text/x-python",
   "name": "python",
   "nbconvert_exporter": "python",
   "pygments_lexer": "ipython3",
   "version": "3.9.12"
  },
  "vscode": {
   "interpreter": {
    "hash": "6b93bc143cf2aa4a53884dec4d65996ee4069beae8d4d0185b09d3e6e44a43f0"
   }
  }
 },
 "nbformat": 4,
 "nbformat_minor": 5
}
