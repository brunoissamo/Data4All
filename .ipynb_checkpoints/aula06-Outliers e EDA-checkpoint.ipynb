{
 "cells": [
  {
   "cell_type": "markdown",
   "id": "f31ed5fa",
   "metadata": {},
   "source": [
    "\n",
    "# Outliers\n",
    "  \n",
    "Os outliers são dados que se diferenciam drasticamente de todos os outros. Em outras palavras, um outlier é um valor que foge da normalidade e que pode (e provavelmente irá) causar anomalias nos resultados obtidos por meio de algoritmos e sistemas de análise.\n",
    "\n",
    "Entender os outliers é fundamental em uma análise de dados por pelo menos dois aspectos:\n",
    "\n",
    "os outliers podem viesar negativamente todo o resultado de uma análise;\n",
    "o comportamento dos outliers pode ser justamente o que está sendo procurado.\n",
    "Os outliers presentes em datasets  (o que são datasets) possuem diversos outros nomes, como:\n",
    "\n",
    "- dados discrepantes;\n",
    "- pontos fora da curva; (o que é curva normal?)\n",
    "- observações fora do comum;\n",
    "- anomalias;\n",
    "- valores atípicos"
   ]
  },
  {
   "cell_type": "markdown",
   "id": "f046a971",
   "metadata": {},
   "source": [
    "Após reconhecer os dados discrepantes da sua análise, é preciso tomar certos cuidados para que a efetividade da mesma não seja comprometida. Algumas alternativas são:\n",
    "\n",
    "1) ELIMINAR O VALOR\n",
    "\n",
    "Caso seu dataset seja amplo o suficiente, é possível simplesmente excluir o valor anômalo sem causar grandes prejuízos à análise de dados.\n",
    "\n",
    "2) TRATAR SEPARADAMENTE\n",
    "\n",
    "Se a quantidade de outliers for relativamente grande, uma opção é realizar uma análise separada somente com esses dados. É possível separá-los em dois grupos e criar modelos específicos para analisá-los. Essa solução é útil para investigar casos extremos, como por exemplo casos de empresas que continuam vendendo bastante e lucrando mesmo em tempos de crise.\n",
    "\n",
    "3) TRANSFORMAÇÃO LOGARÍTMICA\n",
    "\n",
    "Transformar os dados logaritmicamente é uma técnica que pode diminuir a variação causada pelos valores extremos e anômalos.\n",
    "\n",
    "4) MÉTODOS DE CLUSTERIZAÇÃO\n",
    "\n",
    "Utilize esses métodos para achar uma aproximação que corrige e dá um novo valor aos outliers. Por exemplo, se os outliers forem causados por erros de input, ao invés de eliminar e perder uma linha inteira de registros, uma solução é usar algoritmos de clusterização. Esses algoritmos encontram o comportamento das observações mais próximas ao outlier e fazem uma interferência de qual seria o melhor valor aproximado."
   ]
  },
  {
   "cell_type": "markdown",
   "id": "1b338e72",
   "metadata": {},
   "source": [
    "Identificação de ouliers"
   ]
  },
  {
   "cell_type": "code",
   "execution_count": 1,
   "id": "c7b1bc0f",
   "metadata": {},
   "outputs": [],
   "source": [
    "import pandas as pd\n",
    "import numpy as np"
   ]
  },
  {
   "cell_type": "code",
   "execution_count": 2,
   "id": "05256b09",
   "metadata": {},
   "outputs": [
    {
     "data": {
      "text/html": [
       "<div>\n",
       "<style scoped>\n",
       "    .dataframe tbody tr th:only-of-type {\n",
       "        vertical-align: middle;\n",
       "    }\n",
       "\n",
       "    .dataframe tbody tr th {\n",
       "        vertical-align: top;\n",
       "    }\n",
       "\n",
       "    .dataframe thead th {\n",
       "        text-align: right;\n",
       "    }\n",
       "</style>\n",
       "<table border=\"1\" class=\"dataframe\">\n",
       "  <thead>\n",
       "    <tr style=\"text-align: right;\">\n",
       "      <th></th>\n",
       "      <th>ID</th>\n",
       "      <th>year</th>\n",
       "      <th>loan_limit</th>\n",
       "      <th>Gender</th>\n",
       "      <th>approv_in_adv</th>\n",
       "      <th>loan_type</th>\n",
       "      <th>loan_purpose</th>\n",
       "      <th>Credit_Worthiness</th>\n",
       "      <th>open_credit</th>\n",
       "      <th>business_or_commercial</th>\n",
       "      <th>...</th>\n",
       "      <th>construction_type</th>\n",
       "      <th>occupancy_type</th>\n",
       "      <th>income</th>\n",
       "      <th>credit_type</th>\n",
       "      <th>Credit_Score</th>\n",
       "      <th>age</th>\n",
       "      <th>submission_of_application</th>\n",
       "      <th>LTV</th>\n",
       "      <th>Region</th>\n",
       "      <th>Status</th>\n",
       "    </tr>\n",
       "  </thead>\n",
       "  <tbody>\n",
       "    <tr>\n",
       "      <th>0</th>\n",
       "      <td>24890</td>\n",
       "      <td>2019</td>\n",
       "      <td>cf</td>\n",
       "      <td>Sex Not Available</td>\n",
       "      <td>nopre</td>\n",
       "      <td>type1</td>\n",
       "      <td>p1</td>\n",
       "      <td>l1</td>\n",
       "      <td>nopc</td>\n",
       "      <td>nob/c</td>\n",
       "      <td>...</td>\n",
       "      <td>sb</td>\n",
       "      <td>pr</td>\n",
       "      <td>1740.0</td>\n",
       "      <td>EXP</td>\n",
       "      <td>758</td>\n",
       "      <td>25-34</td>\n",
       "      <td>to_inst</td>\n",
       "      <td>98.728814</td>\n",
       "      <td>south</td>\n",
       "      <td>1</td>\n",
       "    </tr>\n",
       "    <tr>\n",
       "      <th>1</th>\n",
       "      <td>24891</td>\n",
       "      <td>2019</td>\n",
       "      <td>cf</td>\n",
       "      <td>Male</td>\n",
       "      <td>nopre</td>\n",
       "      <td>type2</td>\n",
       "      <td>p1</td>\n",
       "      <td>l1</td>\n",
       "      <td>nopc</td>\n",
       "      <td>b/c</td>\n",
       "      <td>...</td>\n",
       "      <td>sb</td>\n",
       "      <td>pr</td>\n",
       "      <td>4980.0</td>\n",
       "      <td>EQUI</td>\n",
       "      <td>552</td>\n",
       "      <td>55-64</td>\n",
       "      <td>to_inst</td>\n",
       "      <td>NaN</td>\n",
       "      <td>North</td>\n",
       "      <td>1</td>\n",
       "    </tr>\n",
       "    <tr>\n",
       "      <th>2</th>\n",
       "      <td>24892</td>\n",
       "      <td>2019</td>\n",
       "      <td>cf</td>\n",
       "      <td>Male</td>\n",
       "      <td>pre</td>\n",
       "      <td>type1</td>\n",
       "      <td>p1</td>\n",
       "      <td>l1</td>\n",
       "      <td>nopc</td>\n",
       "      <td>nob/c</td>\n",
       "      <td>...</td>\n",
       "      <td>sb</td>\n",
       "      <td>pr</td>\n",
       "      <td>9480.0</td>\n",
       "      <td>EXP</td>\n",
       "      <td>834</td>\n",
       "      <td>35-44</td>\n",
       "      <td>to_inst</td>\n",
       "      <td>80.019685</td>\n",
       "      <td>south</td>\n",
       "      <td>0</td>\n",
       "    </tr>\n",
       "    <tr>\n",
       "      <th>3</th>\n",
       "      <td>24893</td>\n",
       "      <td>2019</td>\n",
       "      <td>cf</td>\n",
       "      <td>Male</td>\n",
       "      <td>nopre</td>\n",
       "      <td>type1</td>\n",
       "      <td>p4</td>\n",
       "      <td>l1</td>\n",
       "      <td>nopc</td>\n",
       "      <td>nob/c</td>\n",
       "      <td>...</td>\n",
       "      <td>sb</td>\n",
       "      <td>pr</td>\n",
       "      <td>11880.0</td>\n",
       "      <td>EXP</td>\n",
       "      <td>587</td>\n",
       "      <td>45-54</td>\n",
       "      <td>not_inst</td>\n",
       "      <td>69.376900</td>\n",
       "      <td>North</td>\n",
       "      <td>0</td>\n",
       "    </tr>\n",
       "    <tr>\n",
       "      <th>4</th>\n",
       "      <td>24894</td>\n",
       "      <td>2019</td>\n",
       "      <td>cf</td>\n",
       "      <td>Joint</td>\n",
       "      <td>pre</td>\n",
       "      <td>type1</td>\n",
       "      <td>p1</td>\n",
       "      <td>l1</td>\n",
       "      <td>nopc</td>\n",
       "      <td>nob/c</td>\n",
       "      <td>...</td>\n",
       "      <td>sb</td>\n",
       "      <td>pr</td>\n",
       "      <td>10440.0</td>\n",
       "      <td>CRIF</td>\n",
       "      <td>602</td>\n",
       "      <td>25-34</td>\n",
       "      <td>not_inst</td>\n",
       "      <td>91.886544</td>\n",
       "      <td>North</td>\n",
       "      <td>0</td>\n",
       "    </tr>\n",
       "  </tbody>\n",
       "</table>\n",
       "<p>5 rows × 25 columns</p>\n",
       "</div>"
      ],
      "text/plain": [
       "      ID  year loan_limit             Gender approv_in_adv loan_type  \\\n",
       "0  24890  2019         cf  Sex Not Available         nopre     type1   \n",
       "1  24891  2019         cf               Male         nopre     type2   \n",
       "2  24892  2019         cf               Male           pre     type1   \n",
       "3  24893  2019         cf               Male         nopre     type1   \n",
       "4  24894  2019         cf              Joint           pre     type1   \n",
       "\n",
       "  loan_purpose Credit_Worthiness open_credit business_or_commercial  ...  \\\n",
       "0           p1                l1        nopc                  nob/c  ...   \n",
       "1           p1                l1        nopc                    b/c  ...   \n",
       "2           p1                l1        nopc                  nob/c  ...   \n",
       "3           p4                l1        nopc                  nob/c  ...   \n",
       "4           p1                l1        nopc                  nob/c  ...   \n",
       "\n",
       "   construction_type  occupancy_type   income credit_type  Credit_Score  \\\n",
       "0                 sb              pr   1740.0         EXP           758   \n",
       "1                 sb              pr   4980.0        EQUI           552   \n",
       "2                 sb              pr   9480.0         EXP           834   \n",
       "3                 sb              pr  11880.0         EXP           587   \n",
       "4                 sb              pr  10440.0        CRIF           602   \n",
       "\n",
       "     age submission_of_application        LTV Region  Status  \n",
       "0  25-34                   to_inst  98.728814  south       1  \n",
       "1  55-64                   to_inst        NaN  North       1  \n",
       "2  35-44                   to_inst  80.019685  south       0  \n",
       "3  45-54                  not_inst  69.376900  North       0  \n",
       "4  25-34                  not_inst  91.886544  North       0  \n",
       "\n",
       "[5 rows x 25 columns]"
      ]
     },
     "execution_count": 2,
     "metadata": {},
     "output_type": "execute_result"
    }
   ],
   "source": [
    "df_loan = pd.read_csv('./dados/Loan_Default.csv')\n",
    "df_loan.head()"
   ]
  },
  {
   "cell_type": "markdown",
   "id": "e8e5bdf7",
   "metadata": {},
   "source": [
    "- **Box-Plot:**\n",
    "Os box-plot, assim como os histogramas, são gráficos estatísticos que permitem analisar uma distribuição dos dados, mas com uma representação diferente. Apesar de muito utilizados por estatísticos e cientistas de dados, a maioria das pessoas que não estão acostumadas a eles, têm dificuldade em interpretá-los. \n",
    "\n",
    "A representação do box-plot se baseia em medidas de quartis: uma caixinha central é desenhada ligando o primeiro (Q1) e terceiro (Q3) quartis (25% e 75%, respectivamente), e uma reta corta essa 'caixa' no quartil central (Q2 = 50%). Na parte inferior e superior do gráfico, é traçada uma reta de tamanho máximo 1.5xIQ, em que IQ = Q3-Q1. Essa reta é traçada até o último valor da variável que ainda esteja dentro desse limite. Observações acima ou abaixo dele, são representadas por bolinhas, e muito chamadas de 'outliers' (valor atípico). Abaixo, uma representação dos componentes de um box-plot, e um gráfico exibindo box-plots das distribuições de temperaturas de diferentes cidades.\n",
    "<img src=\"./images/boxplot2.png\" alt=\"Drawing\" style=\"width: 500px;\"/>\n",
    "<img src=\"./images/boxplot.png\" alt=\"Drawing\" style=\"width: 500px;\"/>"
   ]
  },
  {
   "cell_type": "code",
   "execution_count": 5,
   "id": "38182c7c",
   "metadata": {},
   "outputs": [
    {
     "data": {
      "text/plain": [
       "<AxesSubplot:>"
      ]
     },
     "execution_count": 5,
     "metadata": {},
     "output_type": "execute_result"
    },
    {
     "data": {
      "image/png": "[encoded data removed]",
      "text/plain": [
       "<Figure size 640x480 with 1 Axes>"
      ]
     },
     "metadata": {},
     "output_type": "display_data"
    }
   ],
   "source": [
    "df_loan['income'].plot(kind='box')"
   ]
  },
  {
   "cell_type": "code",
   "execution_count": 4,
   "id": "de365ec4",
   "metadata": {},
   "outputs": [
    {
     "data": {
      "text/plain": [
       "<AxesSubplot:>"
      ]
     },
     "execution_count": 4,
     "metadata": {},
     "output_type": "execute_result"
    },
    {
     "data": {
      "image/png": "[encoded data removed]",
      "text/plain": [
       "<Figure size 640x480 with 1 Axes>"
      ]
     },
     "metadata": {},
     "output_type": "display_data"
    }
   ],
   "source": [
    "df_loan['income'].plot(kind='box', logy=True)"
   ]
  },
  {
   "cell_type": "markdown",
   "id": "7fcdc63a",
   "metadata": {},
   "source": [
    "**Bora praticar!**\n",
    "  \n",
    "Os bancos obtêm uma receita importante com empréstimos concedidos. Mas muitas vezes está associado ao risco. O mutuário pode não pagar o empréstimo. Para mitigar esse problema, os bancos decidiram usar o Machine Learning para superar esse problema. Eles coletaram dados anteriores sobre os tomadores de empréstimos e gostariam que você desenvolvesse um modelo de ML forte para classificar se algum novo devedor provavelmente entrará em default ou não.  \n",
    "  \n",
    "O conjunto de dados é enorme e consiste em vários fatores determinísticos, como renda do mutuário, gênero, finalidade do empréstimo, etc. O conjunto de dados está sujeito a uma forte multicolinearidade e valores vazios. Você pode superar esses fatores e construir um classificador forte para prever inadimplentes?  \n",
    "  \n",
    "Importe a base **Loan_Default.csv** que está em csv dentro do diretório **dados**."
   ]
  },
  {
   "cell_type": "code",
   "execution_count": 3,
   "id": "3bc7a69c",
   "metadata": {},
   "outputs": [
    {
     "data": {
      "text/html": [
       "<div>\n",
       "<style scoped>\n",
       "    .dataframe tbody tr th:only-of-type {\n",
       "        vertical-align: middle;\n",
       "    }\n",
       "\n",
       "    .dataframe tbody tr th {\n",
       "        vertical-align: top;\n",
       "    }\n",
       "\n",
       "    .dataframe thead th {\n",
       "        text-align: right;\n",
       "    }\n",
       "</style>\n",
       "<table border=\"1\" class=\"dataframe\">\n",
       "  <thead>\n",
       "    <tr style=\"text-align: right;\">\n",
       "      <th></th>\n",
       "      <th>ID</th>\n",
       "      <th>year</th>\n",
       "      <th>loan_limit</th>\n",
       "      <th>Gender</th>\n",
       "      <th>approv_in_adv</th>\n",
       "      <th>loan_type</th>\n",
       "      <th>loan_purpose</th>\n",
       "      <th>Credit_Worthiness</th>\n",
       "      <th>open_credit</th>\n",
       "      <th>business_or_commercial</th>\n",
       "      <th>...</th>\n",
       "      <th>construction_type</th>\n",
       "      <th>occupancy_type</th>\n",
       "      <th>income</th>\n",
       "      <th>credit_type</th>\n",
       "      <th>Credit_Score</th>\n",
       "      <th>age</th>\n",
       "      <th>submission_of_application</th>\n",
       "      <th>LTV</th>\n",
       "      <th>Region</th>\n",
       "      <th>Status</th>\n",
       "    </tr>\n",
       "  </thead>\n",
       "  <tbody>\n",
       "    <tr>\n",
       "      <th>0</th>\n",
       "      <td>24890</td>\n",
       "      <td>2019</td>\n",
       "      <td>cf</td>\n",
       "      <td>Sex Not Available</td>\n",
       "      <td>nopre</td>\n",
       "      <td>type1</td>\n",
       "      <td>p1</td>\n",
       "      <td>l1</td>\n",
       "      <td>nopc</td>\n",
       "      <td>nob/c</td>\n",
       "      <td>...</td>\n",
       "      <td>sb</td>\n",
       "      <td>pr</td>\n",
       "      <td>1740.0</td>\n",
       "      <td>EXP</td>\n",
       "      <td>758</td>\n",
       "      <td>25-34</td>\n",
       "      <td>to_inst</td>\n",
       "      <td>98.728814</td>\n",
       "      <td>south</td>\n",
       "      <td>1</td>\n",
       "    </tr>\n",
       "    <tr>\n",
       "      <th>1</th>\n",
       "      <td>24891</td>\n",
       "      <td>2019</td>\n",
       "      <td>cf</td>\n",
       "      <td>Male</td>\n",
       "      <td>nopre</td>\n",
       "      <td>type2</td>\n",
       "      <td>p1</td>\n",
       "      <td>l1</td>\n",
       "      <td>nopc</td>\n",
       "      <td>b/c</td>\n",
       "      <td>...</td>\n",
       "      <td>sb</td>\n",
       "      <td>pr</td>\n",
       "      <td>4980.0</td>\n",
       "      <td>EQUI</td>\n",
       "      <td>552</td>\n",
       "      <td>55-64</td>\n",
       "      <td>to_inst</td>\n",
       "      <td>NaN</td>\n",
       "      <td>North</td>\n",
       "      <td>1</td>\n",
       "    </tr>\n",
       "    <tr>\n",
       "      <th>2</th>\n",
       "      <td>24892</td>\n",
       "      <td>2019</td>\n",
       "      <td>cf</td>\n",
       "      <td>Male</td>\n",
       "      <td>pre</td>\n",
       "      <td>type1</td>\n",
       "      <td>p1</td>\n",
       "      <td>l1</td>\n",
       "      <td>nopc</td>\n",
       "      <td>nob/c</td>\n",
       "      <td>...</td>\n",
       "      <td>sb</td>\n",
       "      <td>pr</td>\n",
       "      <td>9480.0</td>\n",
       "      <td>EXP</td>\n",
       "      <td>834</td>\n",
       "      <td>35-44</td>\n",
       "      <td>to_inst</td>\n",
       "      <td>80.019685</td>\n",
       "      <td>south</td>\n",
       "      <td>0</td>\n",
       "    </tr>\n",
       "    <tr>\n",
       "      <th>3</th>\n",
       "      <td>24893</td>\n",
       "      <td>2019</td>\n",
       "      <td>cf</td>\n",
       "      <td>Male</td>\n",
       "      <td>nopre</td>\n",
       "      <td>type1</td>\n",
       "      <td>p4</td>\n",
       "      <td>l1</td>\n",
       "      <td>nopc</td>\n",
       "      <td>nob/c</td>\n",
       "      <td>...</td>\n",
       "      <td>sb</td>\n",
       "      <td>pr</td>\n",
       "      <td>11880.0</td>\n",
       "      <td>EXP</td>\n",
       "      <td>587</td>\n",
       "      <td>45-54</td>\n",
       "      <td>not_inst</td>\n",
       "      <td>69.376900</td>\n",
       "      <td>North</td>\n",
       "      <td>0</td>\n",
       "    </tr>\n",
       "    <tr>\n",
       "      <th>4</th>\n",
       "      <td>24894</td>\n",
       "      <td>2019</td>\n",
       "      <td>cf</td>\n",
       "      <td>Joint</td>\n",
       "      <td>pre</td>\n",
       "      <td>type1</td>\n",
       "      <td>p1</td>\n",
       "      <td>l1</td>\n",
       "      <td>nopc</td>\n",
       "      <td>nob/c</td>\n",
       "      <td>...</td>\n",
       "      <td>sb</td>\n",
       "      <td>pr</td>\n",
       "      <td>10440.0</td>\n",
       "      <td>CRIF</td>\n",
       "      <td>602</td>\n",
       "      <td>25-34</td>\n",
       "      <td>not_inst</td>\n",
       "      <td>91.886544</td>\n",
       "      <td>North</td>\n",
       "      <td>0</td>\n",
       "    </tr>\n",
       "  </tbody>\n",
       "</table>\n",
       "<p>5 rows × 25 columns</p>\n",
       "</div>"
      ],
      "text/plain": [
       "      ID  year loan_limit             Gender approv_in_adv loan_type  \\\n",
       "0  24890  2019         cf  Sex Not Available         nopre     type1   \n",
       "1  24891  2019         cf               Male         nopre     type2   \n",
       "2  24892  2019         cf               Male           pre     type1   \n",
       "3  24893  2019         cf               Male         nopre     type1   \n",
       "4  24894  2019         cf              Joint           pre     type1   \n",
       "\n",
       "  loan_purpose Credit_Worthiness open_credit business_or_commercial  ...  \\\n",
       "0           p1                l1        nopc                  nob/c  ...   \n",
       "1           p1                l1        nopc                    b/c  ...   \n",
       "2           p1                l1        nopc                  nob/c  ...   \n",
       "3           p4                l1        nopc                  nob/c  ...   \n",
       "4           p1                l1        nopc                  nob/c  ...   \n",
       "\n",
       "   construction_type  occupancy_type   income credit_type  Credit_Score  \\\n",
       "0                 sb              pr   1740.0         EXP           758   \n",
       "1                 sb              pr   4980.0        EQUI           552   \n",
       "2                 sb              pr   9480.0         EXP           834   \n",
       "3                 sb              pr  11880.0         EXP           587   \n",
       "4                 sb              pr  10440.0        CRIF           602   \n",
       "\n",
       "     age submission_of_application        LTV Region  Status  \n",
       "0  25-34                   to_inst  98.728814  south       1  \n",
       "1  55-64                   to_inst        NaN  North       1  \n",
       "2  35-44                   to_inst  80.019685  south       0  \n",
       "3  45-54                  not_inst  69.376900  North       0  \n",
       "4  25-34                  not_inst  91.886544  North       0  \n",
       "\n",
       "[5 rows x 25 columns]"
      ]
     },
     "execution_count": 3,
     "metadata": {},
     "output_type": "execute_result"
    }
   ],
   "source": [
    "df_loan = pd.read_csv('./dados/Loan_Default.csv')\n",
    "df_loan.head()"
   ]
  },
  {
   "cell_type": "code",
   "execution_count": 4,
   "id": "b38d3627",
   "metadata": {},
   "outputs": [
    {
     "data": {
      "text/plain": [
       "(148670, 25)"
      ]
     },
     "execution_count": 4,
     "metadata": {},
     "output_type": "execute_result"
    }
   ],
   "source": [
    "df_loan.shape"
   ]
  },
  {
   "cell_type": "code",
   "execution_count": 5,
   "id": "5f7ae475",
   "metadata": {},
   "outputs": [
    {
     "data": {
      "text/plain": [
       "Index(['ID', 'year', 'loan_limit', 'Gender', 'approv_in_adv', 'loan_type',\n",
       "       'loan_purpose', 'Credit_Worthiness', 'open_credit',\n",
       "       'business_or_commercial', 'loan_amount', 'rate_of_interest',\n",
       "       'interest_only', 'lump_sum_payment', 'property_value',\n",
       "       'construction_type', 'occupancy_type', 'income', 'credit_type',\n",
       "       'Credit_Score', 'age', 'submission_of_application', 'LTV', 'Region',\n",
       "       'Status'],\n",
       "      dtype='object')"
      ]
     },
     "execution_count": 5,
     "metadata": {},
     "output_type": "execute_result"
    }
   ],
   "source": [
    "df_loan.columns"
   ]
  },
  {
   "cell_type": "code",
   "execution_count": 6,
   "id": "a9ec3bc8",
   "metadata": {},
   "outputs": [
    {
     "name": "stdout",
     "output_type": "stream",
     "text": [
      "<class 'pandas.core.frame.DataFrame'>\n",
      "RangeIndex: 148670 entries, 0 to 148669\n",
      "Data columns (total 25 columns):\n",
      " #   Column                     Non-Null Count   Dtype  \n",
      "---  ------                     --------------   -----  \n",
      " 0   ID                         148670 non-null  int64  \n",
      " 1   year                       148670 non-null  int64  \n",
      " 2   loan_limit                 145326 non-null  object \n",
      " 3   Gender                     148670 non-null  object \n",
      " 4   approv_in_adv              147762 non-null  object \n",
      " 5   loan_type                  148670 non-null  object \n",
      " 6   loan_purpose               148536 non-null  object \n",
      " 7   Credit_Worthiness          148670 non-null  object \n",
      " 8   open_credit                148670 non-null  object \n",
      " 9   business_or_commercial     148670 non-null  object \n",
      " 10  loan_amount                148670 non-null  int64  \n",
      " 11  rate_of_interest           112231 non-null  float64\n",
      " 12  interest_only              148670 non-null  object \n",
      " 13  lump_sum_payment           148670 non-null  object \n",
      " 14  property_value             133572 non-null  float64\n",
      " 15  construction_type          148670 non-null  object \n",
      " 16  occupancy_type             148670 non-null  object \n",
      " 17  income                     139520 non-null  float64\n",
      " 18  credit_type                148670 non-null  object \n",
      " 19  Credit_Score               148670 non-null  int64  \n",
      " 20  age                        148470 non-null  object \n",
      " 21  submission_of_application  148470 non-null  object \n",
      " 22  LTV                        133572 non-null  float64\n",
      " 23  Region                     148670 non-null  object \n",
      " 24  Status                     148670 non-null  int64  \n",
      "dtypes: float64(4), int64(5), object(16)\n",
      "memory usage: 28.4+ MB\n"
     ]
    }
   ],
   "source": [
    "df_loan.info()"
   ]
  },
  {
   "cell_type": "code",
   "execution_count": 7,
   "id": "cf8e5b0b",
   "metadata": {},
   "outputs": [
    {
     "data": {
      "text/html": [
       "<div>\n",
       "<style scoped>\n",
       "    .dataframe tbody tr th:only-of-type {\n",
       "        vertical-align: middle;\n",
       "    }\n",
       "\n",
       "    .dataframe tbody tr th {\n",
       "        vertical-align: top;\n",
       "    }\n",
       "\n",
       "    .dataframe thead th {\n",
       "        text-align: right;\n",
       "    }\n",
       "</style>\n",
       "<table border=\"1\" class=\"dataframe\">\n",
       "  <thead>\n",
       "    <tr style=\"text-align: right;\">\n",
       "      <th></th>\n",
       "      <th>lump_sum_payment</th>\n",
       "    </tr>\n",
       "  </thead>\n",
       "  <tbody>\n",
       "    <tr>\n",
       "      <th>0</th>\n",
       "      <td>not_lpsm</td>\n",
       "    </tr>\n",
       "    <tr>\n",
       "      <th>1</th>\n",
       "      <td>lpsm</td>\n",
       "    </tr>\n",
       "    <tr>\n",
       "      <th>2</th>\n",
       "      <td>not_lpsm</td>\n",
       "    </tr>\n",
       "    <tr>\n",
       "      <th>3</th>\n",
       "      <td>not_lpsm</td>\n",
       "    </tr>\n",
       "    <tr>\n",
       "      <th>4</th>\n",
       "      <td>not_lpsm</td>\n",
       "    </tr>\n",
       "    <tr>\n",
       "      <th>...</th>\n",
       "      <td>...</td>\n",
       "    </tr>\n",
       "    <tr>\n",
       "      <th>148665</th>\n",
       "      <td>not_lpsm</td>\n",
       "    </tr>\n",
       "    <tr>\n",
       "      <th>148666</th>\n",
       "      <td>not_lpsm</td>\n",
       "    </tr>\n",
       "    <tr>\n",
       "      <th>148667</th>\n",
       "      <td>not_lpsm</td>\n",
       "    </tr>\n",
       "    <tr>\n",
       "      <th>148668</th>\n",
       "      <td>not_lpsm</td>\n",
       "    </tr>\n",
       "    <tr>\n",
       "      <th>148669</th>\n",
       "      <td>not_lpsm</td>\n",
       "    </tr>\n",
       "  </tbody>\n",
       "</table>\n",
       "<p>148670 rows × 1 columns</p>\n",
       "</div>"
      ],
      "text/plain": [
       "       lump_sum_payment\n",
       "0              not_lpsm\n",
       "1                  lpsm\n",
       "2              not_lpsm\n",
       "3              not_lpsm\n",
       "4              not_lpsm\n",
       "...                 ...\n",
       "148665         not_lpsm\n",
       "148666         not_lpsm\n",
       "148667         not_lpsm\n",
       "148668         not_lpsm\n",
       "148669         not_lpsm\n",
       "\n",
       "[148670 rows x 1 columns]"
      ]
     },
     "execution_count": 7,
     "metadata": {},
     "output_type": "execute_result"
    }
   ],
   "source": [
    "df_loan[['lump_sum_payment']]"
   ]
  },
  {
   "cell_type": "code",
   "execution_count": 8,
   "id": "66b98b86",
   "metadata": {},
   "outputs": [
    {
     "data": {
      "text/html": [
       "<div>\n",
       "<style scoped>\n",
       "    .dataframe tbody tr th:only-of-type {\n",
       "        vertical-align: middle;\n",
       "    }\n",
       "\n",
       "    .dataframe tbody tr th {\n",
       "        vertical-align: top;\n",
       "    }\n",
       "\n",
       "    .dataframe thead th {\n",
       "        text-align: right;\n",
       "    }\n",
       "</style>\n",
       "<table border=\"1\" class=\"dataframe\">\n",
       "  <thead>\n",
       "    <tr style=\"text-align: right;\">\n",
       "      <th></th>\n",
       "      <th>ID</th>\n",
       "      <th>year</th>\n",
       "      <th>loan_amount</th>\n",
       "      <th>rate_of_interest</th>\n",
       "      <th>property_value</th>\n",
       "      <th>income</th>\n",
       "      <th>Credit_Score</th>\n",
       "      <th>LTV</th>\n",
       "      <th>Status</th>\n",
       "    </tr>\n",
       "  </thead>\n",
       "  <tbody>\n",
       "    <tr>\n",
       "      <th>count</th>\n",
       "      <td>148670.000000</td>\n",
       "      <td>148670.0</td>\n",
       "      <td>1.486700e+05</td>\n",
       "      <td>112231.000000</td>\n",
       "      <td>1.335720e+05</td>\n",
       "      <td>139520.000000</td>\n",
       "      <td>148670.000000</td>\n",
       "      <td>133572.000000</td>\n",
       "      <td>148670.000000</td>\n",
       "    </tr>\n",
       "    <tr>\n",
       "      <th>mean</th>\n",
       "      <td>99224.500000</td>\n",
       "      <td>2019.0</td>\n",
       "      <td>3.311177e+05</td>\n",
       "      <td>4.045476</td>\n",
       "      <td>4.978935e+05</td>\n",
       "      <td>6957.338876</td>\n",
       "      <td>699.789103</td>\n",
       "      <td>72.746457</td>\n",
       "      <td>0.246445</td>\n",
       "    </tr>\n",
       "    <tr>\n",
       "      <th>std</th>\n",
       "      <td>42917.476598</td>\n",
       "      <td>0.0</td>\n",
       "      <td>1.839093e+05</td>\n",
       "      <td>0.561391</td>\n",
       "      <td>3.599353e+05</td>\n",
       "      <td>6496.586382</td>\n",
       "      <td>115.875857</td>\n",
       "      <td>39.967603</td>\n",
       "      <td>0.430942</td>\n",
       "    </tr>\n",
       "    <tr>\n",
       "      <th>min</th>\n",
       "      <td>24890.000000</td>\n",
       "      <td>2019.0</td>\n",
       "      <td>1.650000e+04</td>\n",
       "      <td>0.000000</td>\n",
       "      <td>8.000000e+03</td>\n",
       "      <td>0.000000</td>\n",
       "      <td>500.000000</td>\n",
       "      <td>0.967478</td>\n",
       "      <td>0.000000</td>\n",
       "    </tr>\n",
       "    <tr>\n",
       "      <th>25%</th>\n",
       "      <td>62057.250000</td>\n",
       "      <td>2019.0</td>\n",
       "      <td>1.965000e+05</td>\n",
       "      <td>3.625000</td>\n",
       "      <td>2.680000e+05</td>\n",
       "      <td>3720.000000</td>\n",
       "      <td>599.000000</td>\n",
       "      <td>60.474860</td>\n",
       "      <td>0.000000</td>\n",
       "    </tr>\n",
       "    <tr>\n",
       "      <th>50%</th>\n",
       "      <td>99224.500000</td>\n",
       "      <td>2019.0</td>\n",
       "      <td>2.965000e+05</td>\n",
       "      <td>3.990000</td>\n",
       "      <td>4.180000e+05</td>\n",
       "      <td>5760.000000</td>\n",
       "      <td>699.000000</td>\n",
       "      <td>75.135870</td>\n",
       "      <td>0.000000</td>\n",
       "    </tr>\n",
       "    <tr>\n",
       "      <th>75%</th>\n",
       "      <td>136391.750000</td>\n",
       "      <td>2019.0</td>\n",
       "      <td>4.365000e+05</td>\n",
       "      <td>4.375000</td>\n",
       "      <td>6.280000e+05</td>\n",
       "      <td>8520.000000</td>\n",
       "      <td>800.000000</td>\n",
       "      <td>86.184211</td>\n",
       "      <td>0.000000</td>\n",
       "    </tr>\n",
       "    <tr>\n",
       "      <th>max</th>\n",
       "      <td>173559.000000</td>\n",
       "      <td>2019.0</td>\n",
       "      <td>3.576500e+06</td>\n",
       "      <td>8.000000</td>\n",
       "      <td>1.650800e+07</td>\n",
       "      <td>578580.000000</td>\n",
       "      <td>900.000000</td>\n",
       "      <td>7831.250000</td>\n",
       "      <td>1.000000</td>\n",
       "    </tr>\n",
       "  </tbody>\n",
       "</table>\n",
       "</div>"
      ],
      "text/plain": [
       "                  ID      year   loan_amount  rate_of_interest  \\\n",
       "count  148670.000000  148670.0  1.486700e+05     112231.000000   \n",
       "mean    99224.500000    2019.0  3.311177e+05          4.045476   \n",
       "std     42917.476598       0.0  1.839093e+05          0.561391   \n",
       "min     24890.000000    2019.0  1.650000e+04          0.000000   \n",
       "25%     62057.250000    2019.0  1.965000e+05          3.625000   \n",
       "50%     99224.500000    2019.0  2.965000e+05          3.990000   \n",
       "75%    136391.750000    2019.0  4.365000e+05          4.375000   \n",
       "max    173559.000000    2019.0  3.576500e+06          8.000000   \n",
       "\n",
       "       property_value         income   Credit_Score            LTV  \\\n",
       "count    1.335720e+05  139520.000000  148670.000000  133572.000000   \n",
       "mean     4.978935e+05    6957.338876     699.789103      72.746457   \n",
       "std      3.599353e+05    6496.586382     115.875857      39.967603   \n",
       "min      8.000000e+03       0.000000     500.000000       0.967478   \n",
       "25%      2.680000e+05    3720.000000     599.000000      60.474860   \n",
       "50%      4.180000e+05    5760.000000     699.000000      75.135870   \n",
       "75%      6.280000e+05    8520.000000     800.000000      86.184211   \n",
       "max      1.650800e+07  578580.000000     900.000000    7831.250000   \n",
       "\n",
       "              Status  \n",
       "count  148670.000000  \n",
       "mean        0.246445  \n",
       "std         0.430942  \n",
       "min         0.000000  \n",
       "25%         0.000000  \n",
       "50%         0.000000  \n",
       "75%         0.000000  \n",
       "max         1.000000  "
      ]
     },
     "execution_count": 8,
     "metadata": {},
     "output_type": "execute_result"
    }
   ],
   "source": [
    "df_loan.describe()"
   ]
  },
  {
   "cell_type": "code",
   "execution_count": 9,
   "id": "4369031e",
   "metadata": {},
   "outputs": [
    {
     "data": {
      "text/plain": [
       "ID                               0\n",
       "year                             0\n",
       "loan_limit                    3344\n",
       "Gender                           0\n",
       "approv_in_adv                  908\n",
       "loan_type                        0\n",
       "loan_purpose                   134\n",
       "Credit_Worthiness                0\n",
       "open_credit                      0\n",
       "business_or_commercial           0\n",
       "loan_amount                      0\n",
       "rate_of_interest             36439\n",
       "interest_only                    0\n",
       "lump_sum_payment                 0\n",
       "property_value               15098\n",
       "construction_type                0\n",
       "occupancy_type                   0\n",
       "income                        9150\n",
       "credit_type                      0\n",
       "Credit_Score                     0\n",
       "age                            200\n",
       "submission_of_application      200\n",
       "LTV                          15098\n",
       "Region                           0\n",
       "Status                           0\n",
       "dtype: int64"
      ]
     },
     "execution_count": 9,
     "metadata": {},
     "output_type": "execute_result"
    }
   ],
   "source": [
    "df_loan.isna().sum()"
   ]
  },
  {
   "cell_type": "code",
   "execution_count": 10,
   "id": "7fc31e7d",
   "metadata": {},
   "outputs": [
    {
     "data": {
      "text/plain": [
       "ID                               0\n",
       "year                             0\n",
       "loan_limit                    3344\n",
       "Gender                           0\n",
       "approv_in_adv                  908\n",
       "loan_type                        0\n",
       "loan_purpose                   134\n",
       "Credit_Worthiness                0\n",
       "open_credit                      0\n",
       "business_or_commercial           0\n",
       "loan_amount                      0\n",
       "rate_of_interest             36439\n",
       "interest_only                    0\n",
       "lump_sum_payment                 0\n",
       "property_value               15098\n",
       "construction_type                0\n",
       "occupancy_type                   0\n",
       "income                        9150\n",
       "credit_type                      0\n",
       "Credit_Score                     0\n",
       "age                            200\n",
       "submission_of_application      200\n",
       "LTV                          15098\n",
       "Region                           0\n",
       "Status                           0\n",
       "dtype: int64"
      ]
     },
     "execution_count": 10,
     "metadata": {},
     "output_type": "execute_result"
    }
   ],
   "source": [
    "df_loan.isnull().sum()"
   ]
  },
  {
   "cell_type": "code",
   "execution_count": 11,
   "id": "3f5fc6ed",
   "metadata": {},
   "outputs": [
    {
     "data": {
      "text/plain": [
       "ID                            0.000000\n",
       "year                          0.000000\n",
       "loan_limit                    2.249277\n",
       "Gender                        0.000000\n",
       "approv_in_adv                 0.610749\n",
       "loan_type                     0.000000\n",
       "loan_purpose                  0.090133\n",
       "Credit_Worthiness             0.000000\n",
       "open_credit                   0.000000\n",
       "business_or_commercial        0.000000\n",
       "loan_amount                   0.000000\n",
       "rate_of_interest             24.509989\n",
       "interest_only                 0.000000\n",
       "lump_sum_payment              0.000000\n",
       "property_value               10.155378\n",
       "construction_type             0.000000\n",
       "occupancy_type                0.000000\n",
       "income                        6.154571\n",
       "credit_type                   0.000000\n",
       "Credit_Score                  0.000000\n",
       "age                           0.134526\n",
       "submission_of_application     0.134526\n",
       "LTV                          10.155378\n",
       "Region                        0.000000\n",
       "Status                        0.000000\n",
       "dtype: float64"
      ]
     },
     "execution_count": 11,
     "metadata": {},
     "output_type": "execute_result"
    }
   ],
   "source": [
    "(df_loan.isnull().sum() / len(df_loan))*100"
   ]
  },
  {
   "cell_type": "markdown",
   "id": "8dc029f2",
   "metadata": {},
   "source": [
    "Análise de variáveis contínuas"
   ]
  },
  {
   "cell_type": "code",
   "execution_count": 16,
   "id": "a710a546",
   "metadata": {},
   "outputs": [
    {
     "data": {
      "image/png": "[encoded data removed]",
      "text/plain": [
       "<Figure size 640x480 with 1 Axes>"
      ]
     },
     "metadata": {},
     "output_type": "display_data"
    }
   ],
   "source": [
    "df_loan[['Credit_Score']].plot(kind='box');"
   ]
  },
  {
   "cell_type": "code",
   "execution_count": 17,
   "id": "2b146b12",
   "metadata": {},
   "outputs": [
    {
     "data": {
      "image/png": "[encoded data removed]",
      "text/plain": [
       "<Figure size 640x480 with 1 Axes>"
      ]
     },
     "metadata": {},
     "output_type": "display_data"
    }
   ],
   "source": [
    "df_loan[['loan_amount']].plot(kind='box');"
   ]
  },
  {
   "cell_type": "markdown",
   "id": "b6e5590f",
   "metadata": {},
   "source": [
    "Vamos analisar nossa variável de interesse **Status**"
   ]
  },
  {
   "cell_type": "code",
   "execution_count": 18,
   "id": "001d6ad7",
   "metadata": {},
   "outputs": [
    {
     "data": {
      "text/plain": [
       "0    112031\n",
       "1     36639\n",
       "Name: Status, dtype: int64"
      ]
     },
     "execution_count": 18,
     "metadata": {},
     "output_type": "execute_result"
    }
   ],
   "source": [
    "df_loan['Status'].value_counts()"
   ]
  },
  {
   "cell_type": "code",
   "execution_count": 19,
   "id": "7a631bcc",
   "metadata": {},
   "outputs": [
    {
     "data": {
      "text/plain": [
       "0    0.753555\n",
       "1    0.246445\n",
       "Name: Status, dtype: float64"
      ]
     },
     "execution_count": 19,
     "metadata": {},
     "output_type": "execute_result"
    }
   ],
   "source": [
    "df_loan['Status'].value_counts(normalize=True)"
   ]
  },
  {
   "cell_type": "code",
   "execution_count": 20,
   "id": "700c6d37",
   "metadata": {},
   "outputs": [
    {
     "data": {
      "text/plain": [
       "0.24644514696979888"
      ]
     },
     "execution_count": 20,
     "metadata": {},
     "output_type": "execute_result"
    }
   ],
   "source": [
    "df_loan['Status'].mean()"
   ]
  },
  {
   "cell_type": "code",
   "execution_count": 27,
   "id": "9dc801c1",
   "metadata": {},
   "outputs": [
    {
     "data": {
      "image/png": "[encoded data removed]",
      "text/plain": [
       "<Figure size 640x480 with 1 Axes>"
      ]
     },
     "metadata": {},
     "output_type": "display_data"
    }
   ],
   "source": [
    "df_loan.pivot_table(index='Status', aggfunc='count')[['ID']].plot(kind='bar');"
   ]
  },
  {
   "cell_type": "markdown",
   "id": "04a195e6",
   "metadata": {},
   "source": [
    "Podemos analisar outras variáveis de interese também"
   ]
  },
  {
   "cell_type": "code",
   "execution_count": 28,
   "id": "f2de2de9",
   "metadata": {},
   "outputs": [
    {
     "data": {
      "text/plain": [
       "45-54    34720\n",
       "35-44    32818\n",
       "55-64    32534\n",
       "65-74    20744\n",
       "25-34    19142\n",
       ">74       7175\n",
       "<25       1337\n",
       "Name: age, dtype: int64"
      ]
     },
     "execution_count": 28,
     "metadata": {},
     "output_type": "execute_result"
    }
   ],
   "source": [
    "df_loan['age'].value_counts()"
   ]
  },
  {
   "cell_type": "code",
   "execution_count": 29,
   "id": "fb5c609d",
   "metadata": {
    "scrolled": true
   },
   "outputs": [
    {
     "data": {
      "text/html": [
       "<div>\n",
       "<style scoped>\n",
       "    .dataframe tbody tr th:only-of-type {\n",
       "        vertical-align: middle;\n",
       "    }\n",
       "\n",
       "    .dataframe tbody tr th {\n",
       "        vertical-align: top;\n",
       "    }\n",
       "\n",
       "    .dataframe thead th {\n",
       "        text-align: right;\n",
       "    }\n",
       "</style>\n",
       "<table border=\"1\" class=\"dataframe\">\n",
       "  <thead>\n",
       "    <tr style=\"text-align: right;\">\n",
       "      <th></th>\n",
       "      <th>ID</th>\n",
       "    </tr>\n",
       "    <tr>\n",
       "      <th>age</th>\n",
       "      <th></th>\n",
       "    </tr>\n",
       "  </thead>\n",
       "  <tbody>\n",
       "    <tr>\n",
       "      <th>25-34</th>\n",
       "      <td>19142</td>\n",
       "    </tr>\n",
       "    <tr>\n",
       "      <th>35-44</th>\n",
       "      <td>32818</td>\n",
       "    </tr>\n",
       "    <tr>\n",
       "      <th>45-54</th>\n",
       "      <td>34720</td>\n",
       "    </tr>\n",
       "    <tr>\n",
       "      <th>55-64</th>\n",
       "      <td>32534</td>\n",
       "    </tr>\n",
       "    <tr>\n",
       "      <th>65-74</th>\n",
       "      <td>20744</td>\n",
       "    </tr>\n",
       "    <tr>\n",
       "      <th>&lt;25</th>\n",
       "      <td>1337</td>\n",
       "    </tr>\n",
       "    <tr>\n",
       "      <th>&gt;74</th>\n",
       "      <td>7175</td>\n",
       "    </tr>\n",
       "  </tbody>\n",
       "</table>\n",
       "</div>"
      ],
      "text/plain": [
       "          ID\n",
       "age         \n",
       "25-34  19142\n",
       "35-44  32818\n",
       "45-54  34720\n",
       "55-64  32534\n",
       "65-74  20744\n",
       "<25     1337\n",
       ">74     7175"
      ]
     },
     "execution_count": 29,
     "metadata": {},
     "output_type": "execute_result"
    }
   ],
   "source": [
    "df_loan.pivot_table(index='age', aggfunc='count', values='ID')"
   ]
  },
  {
   "cell_type": "code",
   "execution_count": 30,
   "id": "9efc5aaf",
   "metadata": {},
   "outputs": [
    {
     "data": {
      "image/png": "[encoded data removed]",
      "text/plain": [
       "<Figure size 640x480 with 1 Axes>"
      ]
     },
     "metadata": {},
     "output_type": "display_data"
    }
   ],
   "source": [
    "df_loan.pivot_table(index='age', aggfunc='count', values='ID').plot(kind='bar');"
   ]
  },
  {
   "cell_type": "code",
   "execution_count": 31,
   "id": "d7e2f410",
   "metadata": {},
   "outputs": [
    {
     "data": {
      "text/plain": [
       "CIB     48152\n",
       "CRIF    43901\n",
       "EXP     41319\n",
       "EQUI    15298\n",
       "Name: credit_type, dtype: int64"
      ]
     },
     "execution_count": 31,
     "metadata": {},
     "output_type": "execute_result"
    }
   ],
   "source": [
    "df_loan['credit_type'].value_counts()"
   ]
  },
  {
   "cell_type": "markdown",
   "id": "a447c806",
   "metadata": {},
   "source": [
    "Agora podemos verificar as relações das variáveis presentes no dataset com a nossa variável de interesse."
   ]
  },
  {
   "cell_type": "code",
   "execution_count": 32,
   "id": "29ba332f",
   "metadata": {},
   "outputs": [
    {
     "data": {
      "text/html": [
       "<div>\n",
       "<style scoped>\n",
       "    .dataframe tbody tr th:only-of-type {\n",
       "        vertical-align: middle;\n",
       "    }\n",
       "\n",
       "    .dataframe tbody tr th {\n",
       "        vertical-align: top;\n",
       "    }\n",
       "\n",
       "    .dataframe thead th {\n",
       "        text-align: right;\n",
       "    }\n",
       "</style>\n",
       "<table border=\"1\" class=\"dataframe\">\n",
       "  <thead>\n",
       "    <tr style=\"text-align: right;\">\n",
       "      <th></th>\n",
       "      <th>Status</th>\n",
       "    </tr>\n",
       "    <tr>\n",
       "      <th>credit_type</th>\n",
       "      <th></th>\n",
       "    </tr>\n",
       "  </thead>\n",
       "  <tbody>\n",
       "    <tr>\n",
       "      <th>CIB</th>\n",
       "      <td>0.158041</td>\n",
       "    </tr>\n",
       "    <tr>\n",
       "      <th>CRIF</th>\n",
       "      <td>0.162343</td>\n",
       "    </tr>\n",
       "    <tr>\n",
       "      <th>EQUI</th>\n",
       "      <td>0.999935</td>\n",
       "    </tr>\n",
       "    <tr>\n",
       "      <th>EXP</th>\n",
       "      <td>0.159854</td>\n",
       "    </tr>\n",
       "  </tbody>\n",
       "</table>\n",
       "</div>"
      ],
      "text/plain": [
       "               Status\n",
       "credit_type          \n",
       "CIB          0.158041\n",
       "CRIF         0.162343\n",
       "EQUI         0.999935\n",
       "EXP          0.159854"
      ]
     },
     "execution_count": 32,
     "metadata": {},
     "output_type": "execute_result"
    }
   ],
   "source": [
    "df_loan.pivot_table(index='credit_type', values='Status', aggfunc='mean')"
   ]
  },
  {
   "cell_type": "code",
   "execution_count": 33,
   "id": "7f98e30e",
   "metadata": {},
   "outputs": [
    {
     "data": {
      "text/html": [
       "<div>\n",
       "<style scoped>\n",
       "    .dataframe tbody tr th:only-of-type {\n",
       "        vertical-align: middle;\n",
       "    }\n",
       "\n",
       "    .dataframe tbody tr th {\n",
       "        vertical-align: top;\n",
       "    }\n",
       "\n",
       "    .dataframe thead th {\n",
       "        text-align: right;\n",
       "    }\n",
       "</style>\n",
       "<table border=\"1\" class=\"dataframe\">\n",
       "  <thead>\n",
       "    <tr style=\"text-align: right;\">\n",
       "      <th></th>\n",
       "      <th>Status</th>\n",
       "    </tr>\n",
       "    <tr>\n",
       "      <th>income</th>\n",
       "      <th></th>\n",
       "    </tr>\n",
       "  </thead>\n",
       "  <tbody>\n",
       "    <tr>\n",
       "      <th>0.0</th>\n",
       "      <td>0.993651</td>\n",
       "    </tr>\n",
       "    <tr>\n",
       "      <th>60.0</th>\n",
       "      <td>1.000000</td>\n",
       "    </tr>\n",
       "    <tr>\n",
       "      <th>120.0</th>\n",
       "      <td>0.833333</td>\n",
       "    </tr>\n",
       "    <tr>\n",
       "      <th>180.0</th>\n",
       "      <td>1.000000</td>\n",
       "    </tr>\n",
       "    <tr>\n",
       "      <th>240.0</th>\n",
       "      <td>1.000000</td>\n",
       "    </tr>\n",
       "    <tr>\n",
       "      <th>...</th>\n",
       "      <td>...</td>\n",
       "    </tr>\n",
       "    <tr>\n",
       "      <th>329460.0</th>\n",
       "      <td>0.000000</td>\n",
       "    </tr>\n",
       "    <tr>\n",
       "      <th>335880.0</th>\n",
       "      <td>0.000000</td>\n",
       "    </tr>\n",
       "    <tr>\n",
       "      <th>374400.0</th>\n",
       "      <td>0.000000</td>\n",
       "    </tr>\n",
       "    <tr>\n",
       "      <th>377220.0</th>\n",
       "      <td>0.000000</td>\n",
       "    </tr>\n",
       "    <tr>\n",
       "      <th>578580.0</th>\n",
       "      <td>1.000000</td>\n",
       "    </tr>\n",
       "  </tbody>\n",
       "</table>\n",
       "<p>1001 rows × 1 columns</p>\n",
       "</div>"
      ],
      "text/plain": [
       "            Status\n",
       "income            \n",
       "0.0       0.993651\n",
       "60.0      1.000000\n",
       "120.0     0.833333\n",
       "180.0     1.000000\n",
       "240.0     1.000000\n",
       "...            ...\n",
       "329460.0  0.000000\n",
       "335880.0  0.000000\n",
       "374400.0  0.000000\n",
       "377220.0  0.000000\n",
       "578580.0  1.000000\n",
       "\n",
       "[1001 rows x 1 columns]"
      ]
     },
     "execution_count": 33,
     "metadata": {},
     "output_type": "execute_result"
    }
   ],
   "source": [
    "df_loan.pivot_table(index='income', values='Status', aggfunc='mean')"
   ]
  },
  {
   "cell_type": "code",
   "execution_count": 12,
   "id": "beefc3cc",
   "metadata": {},
   "outputs": [],
   "source": [
    "def salarios(salario):\n",
    "    if np.isnan(salario):\n",
    "        return np.nan\n",
    "    elif salario <= 1000:\n",
    "        return \"0-1000\"\n",
    "    elif salario <= 2000:\n",
    "        return \"1000-2000\"\n",
    "    elif salario <= 5000:\n",
    "        return \"2000-5000\"\n",
    "    else:\n",
    "        return \">5000\""
   ]
  },
  {
   "cell_type": "code",
   "execution_count": 13,
   "id": "207de00d",
   "metadata": {},
   "outputs": [
    {
     "data": {
      "text/html": [
       "<div>\n",
       "<style scoped>\n",
       "    .dataframe tbody tr th:only-of-type {\n",
       "        vertical-align: middle;\n",
       "    }\n",
       "\n",
       "    .dataframe tbody tr th {\n",
       "        vertical-align: top;\n",
       "    }\n",
       "\n",
       "    .dataframe thead th {\n",
       "        text-align: right;\n",
       "    }\n",
       "</style>\n",
       "<table border=\"1\" class=\"dataframe\">\n",
       "  <thead>\n",
       "    <tr style=\"text-align: right;\">\n",
       "      <th></th>\n",
       "      <th>Status</th>\n",
       "    </tr>\n",
       "    <tr>\n",
       "      <th>faixa_salario</th>\n",
       "      <th></th>\n",
       "    </tr>\n",
       "  </thead>\n",
       "  <tbody>\n",
       "    <tr>\n",
       "      <th>0-1000</th>\n",
       "      <td>0.909242</td>\n",
       "    </tr>\n",
       "    <tr>\n",
       "      <th>1000-2000</th>\n",
       "      <td>0.415637</td>\n",
       "    </tr>\n",
       "    <tr>\n",
       "      <th>2000-5000</th>\n",
       "      <td>0.282545</td>\n",
       "    </tr>\n",
       "    <tr>\n",
       "      <th>&gt;5000</th>\n",
       "      <td>0.209614</td>\n",
       "    </tr>\n",
       "  </tbody>\n",
       "</table>\n",
       "</div>"
      ],
      "text/plain": [
       "                 Status\n",
       "faixa_salario          \n",
       "0-1000         0.909242\n",
       "1000-2000      0.415637\n",
       "2000-5000      0.282545\n",
       ">5000          0.209614"
      ]
     },
     "execution_count": 13,
     "metadata": {},
     "output_type": "execute_result"
    }
   ],
   "source": [
    "df_loan['faixa_salario'] = df_loan['income'].apply(salarios)\n",
    "df_loan.pivot_table(index='faixa_salario', values='Status', aggfunc='mean')"
   ]
  },
  {
   "cell_type": "code",
   "execution_count": 36,
   "id": "f264a594",
   "metadata": {},
   "outputs": [
    {
     "data": {
      "text/html": [
       "<div>\n",
       "<style scoped>\n",
       "    .dataframe tbody tr th:only-of-type {\n",
       "        vertical-align: middle;\n",
       "    }\n",
       "\n",
       "    .dataframe tbody tr th {\n",
       "        vertical-align: top;\n",
       "    }\n",
       "\n",
       "    .dataframe thead th {\n",
       "        text-align: right;\n",
       "    }\n",
       "</style>\n",
       "<table border=\"1\" class=\"dataframe\">\n",
       "  <thead>\n",
       "    <tr style=\"text-align: right;\">\n",
       "      <th></th>\n",
       "      <th>Status</th>\n",
       "    </tr>\n",
       "    <tr>\n",
       "      <th>Region</th>\n",
       "      <th></th>\n",
       "    </tr>\n",
       "  </thead>\n",
       "  <tbody>\n",
       "    <tr>\n",
       "      <th>North</th>\n",
       "      <td>0.225114</td>\n",
       "    </tr>\n",
       "    <tr>\n",
       "      <th>North-East</th>\n",
       "      <td>0.304453</td>\n",
       "    </tr>\n",
       "    <tr>\n",
       "      <th>central</th>\n",
       "      <td>0.275382</td>\n",
       "    </tr>\n",
       "    <tr>\n",
       "      <th>south</th>\n",
       "      <td>0.266293</td>\n",
       "    </tr>\n",
       "  </tbody>\n",
       "</table>\n",
       "</div>"
      ],
      "text/plain": [
       "              Status\n",
       "Region              \n",
       "North       0.225114\n",
       "North-East  0.304453\n",
       "central     0.275382\n",
       "south       0.266293"
      ]
     },
     "execution_count": 36,
     "metadata": {},
     "output_type": "execute_result"
    }
   ],
   "source": [
    "df_loan.pivot_table(index='Region', values='Status', aggfunc='mean')"
   ]
  },
  {
   "cell_type": "code",
   "execution_count": 47,
   "id": "37552f62",
   "metadata": {},
   "outputs": [],
   "source": [
    "df_loan['age'] = pd.Categorical(df_loan['age'], categories=[\"<25\", \"25-34\", \"35-44\", \"45-54\", \"55-64\", \"65-74\", \">74\"], ordered=True)"
   ]
  },
  {
   "cell_type": "code",
   "execution_count": 48,
   "id": "0f39d77b",
   "metadata": {
    "scrolled": true
   },
   "outputs": [
    {
     "data": {
      "text/html": [
       "<div>\n",
       "<style scoped>\n",
       "    .dataframe tbody tr th:only-of-type {\n",
       "        vertical-align: middle;\n",
       "    }\n",
       "\n",
       "    .dataframe tbody tr th {\n",
       "        vertical-align: top;\n",
       "    }\n",
       "\n",
       "    .dataframe thead th {\n",
       "        text-align: right;\n",
       "    }\n",
       "</style>\n",
       "<table border=\"1\" class=\"dataframe\">\n",
       "  <thead>\n",
       "    <tr style=\"text-align: right;\">\n",
       "      <th></th>\n",
       "      <th>Status</th>\n",
       "    </tr>\n",
       "    <tr>\n",
       "      <th>age</th>\n",
       "      <th></th>\n",
       "    </tr>\n",
       "  </thead>\n",
       "  <tbody>\n",
       "    <tr>\n",
       "      <th>&lt;25</th>\n",
       "      <td>0.289454</td>\n",
       "    </tr>\n",
       "    <tr>\n",
       "      <th>25-34</th>\n",
       "      <td>0.221920</td>\n",
       "    </tr>\n",
       "    <tr>\n",
       "      <th>35-44</th>\n",
       "      <td>0.222713</td>\n",
       "    </tr>\n",
       "    <tr>\n",
       "      <th>45-54</th>\n",
       "      <td>0.240467</td>\n",
       "    </tr>\n",
       "    <tr>\n",
       "      <th>55-64</th>\n",
       "      <td>0.258868</td>\n",
       "    </tr>\n",
       "    <tr>\n",
       "      <th>65-74</th>\n",
       "      <td>0.268560</td>\n",
       "    </tr>\n",
       "    <tr>\n",
       "      <th>&gt;74</th>\n",
       "      <td>0.300070</td>\n",
       "    </tr>\n",
       "  </tbody>\n",
       "</table>\n",
       "</div>"
      ],
      "text/plain": [
       "         Status\n",
       "age            \n",
       "<25    0.289454\n",
       "25-34  0.221920\n",
       "35-44  0.222713\n",
       "45-54  0.240467\n",
       "55-64  0.258868\n",
       "65-74  0.268560\n",
       ">74    0.300070"
      ]
     },
     "execution_count": 48,
     "metadata": {},
     "output_type": "execute_result"
    }
   ],
   "source": [
    "df_loan.pivot_table(index='age', values='Status', aggfunc='mean')"
   ]
  },
  {
   "cell_type": "code",
   "execution_count": 39,
   "id": "d41ebc7e",
   "metadata": {},
   "outputs": [
    {
     "data": {
      "image/png": "[encoded data removed]",
      "text/plain": [
       "<Figure size 640x480 with 1 Axes>"
      ]
     },
     "metadata": {},
     "output_type": "display_data"
    }
   ],
   "source": [
    "df_loan.pivot_table(index='age', values='Status', aggfunc='mean').plot(kind='line');"
   ]
  },
  {
   "cell_type": "code",
   "execution_count": 18,
   "id": "c574284f",
   "metadata": {},
   "outputs": [
    {
     "data": {
      "text/html": [
       "<div>\n",
       "<style scoped>\n",
       "    .dataframe tbody tr th:only-of-type {\n",
       "        vertical-align: middle;\n",
       "    }\n",
       "\n",
       "    .dataframe tbody tr th {\n",
       "        vertical-align: top;\n",
       "    }\n",
       "\n",
       "    .dataframe thead th {\n",
       "        text-align: right;\n",
       "    }\n",
       "</style>\n",
       "<table border=\"1\" class=\"dataframe\">\n",
       "  <thead>\n",
       "    <tr style=\"text-align: right;\">\n",
       "      <th></th>\n",
       "      <th>ID</th>\n",
       "      <th>year</th>\n",
       "      <th>loan_amount</th>\n",
       "      <th>rate_of_interest</th>\n",
       "      <th>property_value</th>\n",
       "      <th>income</th>\n",
       "      <th>Credit_Score</th>\n",
       "      <th>LTV</th>\n",
       "      <th>Status</th>\n",
       "    </tr>\n",
       "  </thead>\n",
       "  <tbody>\n",
       "    <tr>\n",
       "      <th>ID</th>\n",
       "      <td>1.000000</td>\n",
       "      <td>NaN</td>\n",
       "      <td>-0.000566</td>\n",
       "      <td>0.000442</td>\n",
       "      <td>0.000990</td>\n",
       "      <td>0.002535</td>\n",
       "      <td>-0.001036</td>\n",
       "      <td>-0.005853</td>\n",
       "      <td>0.001703</td>\n",
       "    </tr>\n",
       "    <tr>\n",
       "      <th>year</th>\n",
       "      <td>NaN</td>\n",
       "      <td>NaN</td>\n",
       "      <td>NaN</td>\n",
       "      <td>NaN</td>\n",
       "      <td>NaN</td>\n",
       "      <td>NaN</td>\n",
       "      <td>NaN</td>\n",
       "      <td>NaN</td>\n",
       "      <td>NaN</td>\n",
       "    </tr>\n",
       "    <tr>\n",
       "      <th>loan_amount</th>\n",
       "      <td>-0.000566</td>\n",
       "      <td>NaN</td>\n",
       "      <td>1.000000</td>\n",
       "      <td>-0.150844</td>\n",
       "      <td>0.734249</td>\n",
       "      <td>0.456065</td>\n",
       "      <td>0.004438</td>\n",
       "      <td>0.038869</td>\n",
       "      <td>-0.036825</td>\n",
       "    </tr>\n",
       "    <tr>\n",
       "      <th>rate_of_interest</th>\n",
       "      <td>0.000442</td>\n",
       "      <td>NaN</td>\n",
       "      <td>-0.150844</td>\n",
       "      <td>1.000000</td>\n",
       "      <td>-0.122613</td>\n",
       "      <td>-0.041809</td>\n",
       "      <td>-0.001331</td>\n",
       "      <td>-0.000220</td>\n",
       "      <td>0.022957</td>\n",
       "    </tr>\n",
       "    <tr>\n",
       "      <th>property_value</th>\n",
       "      <td>0.000990</td>\n",
       "      <td>NaN</td>\n",
       "      <td>0.734249</td>\n",
       "      <td>-0.122613</td>\n",
       "      <td>1.000000</td>\n",
       "      <td>0.414883</td>\n",
       "      <td>0.002430</td>\n",
       "      <td>-0.215102</td>\n",
       "      <td>-0.048864</td>\n",
       "    </tr>\n",
       "    <tr>\n",
       "      <th>income</th>\n",
       "      <td>0.002535</td>\n",
       "      <td>NaN</td>\n",
       "      <td>0.456065</td>\n",
       "      <td>-0.041809</td>\n",
       "      <td>0.414883</td>\n",
       "      <td>1.000000</td>\n",
       "      <td>0.000802</td>\n",
       "      <td>-0.066203</td>\n",
       "      <td>-0.065119</td>\n",
       "    </tr>\n",
       "    <tr>\n",
       "      <th>Credit_Score</th>\n",
       "      <td>-0.001036</td>\n",
       "      <td>NaN</td>\n",
       "      <td>0.004438</td>\n",
       "      <td>-0.001331</td>\n",
       "      <td>0.002430</td>\n",
       "      <td>0.000802</td>\n",
       "      <td>1.000000</td>\n",
       "      <td>-0.005533</td>\n",
       "      <td>0.004004</td>\n",
       "    </tr>\n",
       "    <tr>\n",
       "      <th>LTV</th>\n",
       "      <td>-0.005853</td>\n",
       "      <td>NaN</td>\n",
       "      <td>0.038869</td>\n",
       "      <td>-0.000220</td>\n",
       "      <td>-0.215102</td>\n",
       "      <td>-0.066203</td>\n",
       "      <td>-0.005533</td>\n",
       "      <td>1.000000</td>\n",
       "      <td>0.038895</td>\n",
       "    </tr>\n",
       "    <tr>\n",
       "      <th>Status</th>\n",
       "      <td>0.001703</td>\n",
       "      <td>NaN</td>\n",
       "      <td>-0.036825</td>\n",
       "      <td>0.022957</td>\n",
       "      <td>-0.048864</td>\n",
       "      <td>-0.065119</td>\n",
       "      <td>0.004004</td>\n",
       "      <td>0.038895</td>\n",
       "      <td>1.000000</td>\n",
       "    </tr>\n",
       "  </tbody>\n",
       "</table>\n",
       "</div>"
      ],
      "text/plain": [
       "                        ID  year  loan_amount  rate_of_interest  \\\n",
       "ID                1.000000   NaN    -0.000566          0.000442   \n",
       "year                   NaN   NaN          NaN               NaN   \n",
       "loan_amount      -0.000566   NaN     1.000000         -0.150844   \n",
       "rate_of_interest  0.000442   NaN    -0.150844          1.000000   \n",
       "property_value    0.000990   NaN     0.734249         -0.122613   \n",
       "income            0.002535   NaN     0.456065         -0.041809   \n",
       "Credit_Score     -0.001036   NaN     0.004438         -0.001331   \n",
       "LTV              -0.005853   NaN     0.038869         -0.000220   \n",
       "Status            0.001703   NaN    -0.036825          0.022957   \n",
       "\n",
       "                  property_value    income  Credit_Score       LTV    Status  \n",
       "ID                      0.000990  0.002535     -0.001036 -0.005853  0.001703  \n",
       "year                         NaN       NaN           NaN       NaN       NaN  \n",
       "loan_amount             0.734249  0.456065      0.004438  0.038869 -0.036825  \n",
       "rate_of_interest       -0.122613 -0.041809     -0.001331 -0.000220  0.022957  \n",
       "property_value          1.000000  0.414883      0.002430 -0.215102 -0.048864  \n",
       "income                  0.414883  1.000000      0.000802 -0.066203 -0.065119  \n",
       "Credit_Score            0.002430  0.000802      1.000000 -0.005533  0.004004  \n",
       "LTV                    -0.215102 -0.066203     -0.005533  1.000000  0.038895  \n",
       "Status                 -0.048864 -0.065119      0.004004  0.038895  1.000000  "
      ]
     },
     "execution_count": 18,
     "metadata": {},
     "output_type": "execute_result"
    }
   ],
   "source": [
    "df_loan.corr()"
   ]
  },
  {
   "cell_type": "code",
   "execution_count": 20,
   "id": "5cf0520c",
   "metadata": {},
   "outputs": [
    {
     "data": {
      "text/html": [
       "<div>\n",
       "<style scoped>\n",
       "    .dataframe tbody tr th:only-of-type {\n",
       "        vertical-align: middle;\n",
       "    }\n",
       "\n",
       "    .dataframe tbody tr th {\n",
       "        vertical-align: top;\n",
       "    }\n",
       "\n",
       "    .dataframe thead th {\n",
       "        text-align: right;\n",
       "    }\n",
       "</style>\n",
       "<table border=\"1\" class=\"dataframe\">\n",
       "  <thead>\n",
       "    <tr style=\"text-align: right;\">\n",
       "      <th></th>\n",
       "      <th>ID</th>\n",
       "      <th>year</th>\n",
       "      <th>loan_limit</th>\n",
       "      <th>Gender</th>\n",
       "      <th>approv_in_adv</th>\n",
       "      <th>loan_type</th>\n",
       "      <th>loan_purpose</th>\n",
       "      <th>Credit_Worthiness</th>\n",
       "      <th>open_credit</th>\n",
       "      <th>business_or_commercial</th>\n",
       "      <th>...</th>\n",
       "      <th>occupancy_type</th>\n",
       "      <th>income</th>\n",
       "      <th>credit_type</th>\n",
       "      <th>Credit_Score</th>\n",
       "      <th>age</th>\n",
       "      <th>submission_of_application</th>\n",
       "      <th>LTV</th>\n",
       "      <th>Region</th>\n",
       "      <th>Status</th>\n",
       "      <th>faixa_salario</th>\n",
       "    </tr>\n",
       "  </thead>\n",
       "  <tbody>\n",
       "    <tr>\n",
       "      <th>1</th>\n",
       "      <td>24891</td>\n",
       "      <td>2019</td>\n",
       "      <td>cf</td>\n",
       "      <td>Male</td>\n",
       "      <td>nopre</td>\n",
       "      <td>type2</td>\n",
       "      <td>p1</td>\n",
       "      <td>l1</td>\n",
       "      <td>nopc</td>\n",
       "      <td>b/c</td>\n",
       "      <td>...</td>\n",
       "      <td>pr</td>\n",
       "      <td>4980.0</td>\n",
       "      <td>EQUI</td>\n",
       "      <td>552</td>\n",
       "      <td>55-64</td>\n",
       "      <td>to_inst</td>\n",
       "      <td>NaN</td>\n",
       "      <td>North</td>\n",
       "      <td>1</td>\n",
       "      <td>2000-5000</td>\n",
       "    </tr>\n",
       "    <tr>\n",
       "      <th>2</th>\n",
       "      <td>24892</td>\n",
       "      <td>2019</td>\n",
       "      <td>cf</td>\n",
       "      <td>Male</td>\n",
       "      <td>pre</td>\n",
       "      <td>type1</td>\n",
       "      <td>p1</td>\n",
       "      <td>l1</td>\n",
       "      <td>nopc</td>\n",
       "      <td>nob/c</td>\n",
       "      <td>...</td>\n",
       "      <td>pr</td>\n",
       "      <td>9480.0</td>\n",
       "      <td>EXP</td>\n",
       "      <td>834</td>\n",
       "      <td>35-44</td>\n",
       "      <td>to_inst</td>\n",
       "      <td>80.019685</td>\n",
       "      <td>south</td>\n",
       "      <td>0</td>\n",
       "      <td>&gt;5000</td>\n",
       "    </tr>\n",
       "    <tr>\n",
       "      <th>3</th>\n",
       "      <td>24893</td>\n",
       "      <td>2019</td>\n",
       "      <td>cf</td>\n",
       "      <td>Male</td>\n",
       "      <td>nopre</td>\n",
       "      <td>type1</td>\n",
       "      <td>p4</td>\n",
       "      <td>l1</td>\n",
       "      <td>nopc</td>\n",
       "      <td>nob/c</td>\n",
       "      <td>...</td>\n",
       "      <td>pr</td>\n",
       "      <td>11880.0</td>\n",
       "      <td>EXP</td>\n",
       "      <td>587</td>\n",
       "      <td>45-54</td>\n",
       "      <td>not_inst</td>\n",
       "      <td>69.376900</td>\n",
       "      <td>North</td>\n",
       "      <td>0</td>\n",
       "      <td>&gt;5000</td>\n",
       "    </tr>\n",
       "    <tr>\n",
       "      <th>10</th>\n",
       "      <td>24900</td>\n",
       "      <td>2019</td>\n",
       "      <td>cf</td>\n",
       "      <td>Male</td>\n",
       "      <td>nopre</td>\n",
       "      <td>type2</td>\n",
       "      <td>p3</td>\n",
       "      <td>l2</td>\n",
       "      <td>nopc</td>\n",
       "      <td>b/c</td>\n",
       "      <td>...</td>\n",
       "      <td>pr</td>\n",
       "      <td>4020.0</td>\n",
       "      <td>EXP</td>\n",
       "      <td>723</td>\n",
       "      <td>55-64</td>\n",
       "      <td>to_inst</td>\n",
       "      <td>81.250000</td>\n",
       "      <td>North</td>\n",
       "      <td>1</td>\n",
       "      <td>2000-5000</td>\n",
       "    </tr>\n",
       "    <tr>\n",
       "      <th>15</th>\n",
       "      <td>24905</td>\n",
       "      <td>2019</td>\n",
       "      <td>cf</td>\n",
       "      <td>Male</td>\n",
       "      <td>nopre</td>\n",
       "      <td>type1</td>\n",
       "      <td>p4</td>\n",
       "      <td>l1</td>\n",
       "      <td>nopc</td>\n",
       "      <td>nob/c</td>\n",
       "      <td>...</td>\n",
       "      <td>pr</td>\n",
       "      <td>2220.0</td>\n",
       "      <td>EXP</td>\n",
       "      <td>685</td>\n",
       "      <td>45-54</td>\n",
       "      <td>not_inst</td>\n",
       "      <td>55.434783</td>\n",
       "      <td>North</td>\n",
       "      <td>1</td>\n",
       "      <td>2000-5000</td>\n",
       "    </tr>\n",
       "  </tbody>\n",
       "</table>\n",
       "<p>5 rows × 26 columns</p>\n",
       "</div>"
      ],
      "text/plain": [
       "       ID  year loan_limit Gender approv_in_adv loan_type loan_purpose  \\\n",
       "1   24891  2019         cf   Male         nopre     type2           p1   \n",
       "2   24892  2019         cf   Male           pre     type1           p1   \n",
       "3   24893  2019         cf   Male         nopre     type1           p4   \n",
       "10  24900  2019         cf   Male         nopre     type2           p3   \n",
       "15  24905  2019         cf   Male         nopre     type1           p4   \n",
       "\n",
       "   Credit_Worthiness open_credit business_or_commercial  ...  occupancy_type  \\\n",
       "1                 l1        nopc                    b/c  ...              pr   \n",
       "2                 l1        nopc                  nob/c  ...              pr   \n",
       "3                 l1        nopc                  nob/c  ...              pr   \n",
       "10                l2        nopc                    b/c  ...              pr   \n",
       "15                l1        nopc                  nob/c  ...              pr   \n",
       "\n",
       "     income credit_type Credit_Score    age submission_of_application  \\\n",
       "1    4980.0        EQUI          552  55-64                   to_inst   \n",
       "2    9480.0         EXP          834  35-44                   to_inst   \n",
       "3   11880.0         EXP          587  45-54                  not_inst   \n",
       "10   4020.0         EXP          723  55-64                   to_inst   \n",
       "15   2220.0         EXP          685  45-54                  not_inst   \n",
       "\n",
       "          LTV  Region Status  faixa_salario  \n",
       "1         NaN   North      1      2000-5000  \n",
       "2   80.019685   south      0          >5000  \n",
       "3   69.376900   North      0          >5000  \n",
       "10  81.250000   North      1      2000-5000  \n",
       "15  55.434783   North      1      2000-5000  \n",
       "\n",
       "[5 rows x 26 columns]"
      ]
     },
     "execution_count": 20,
     "metadata": {},
     "output_type": "execute_result"
    }
   ],
   "source": [
    "# Felipe - Gênero\n",
    "df_loan_gender = pd.concat([df_loan[df_loan['Gender'] == 'Male'], df_loan[df_loan['Gender'] == 'Female']], axis=0)\n",
    "df_loan_gender.head()"
   ]
  },
  {
   "cell_type": "code",
   "execution_count": 21,
   "id": "945de5ac",
   "metadata": {},
   "outputs": [
    {
     "data": {
      "text/html": [
       "<div>\n",
       "<style scoped>\n",
       "    .dataframe tbody tr th:only-of-type {\n",
       "        vertical-align: middle;\n",
       "    }\n",
       "\n",
       "    .dataframe tbody tr th {\n",
       "        vertical-align: top;\n",
       "    }\n",
       "\n",
       "    .dataframe thead th {\n",
       "        text-align: right;\n",
       "    }\n",
       "</style>\n",
       "<table border=\"1\" class=\"dataframe\">\n",
       "  <thead>\n",
       "    <tr style=\"text-align: right;\">\n",
       "      <th></th>\n",
       "      <th>income</th>\n",
       "    </tr>\n",
       "    <tr>\n",
       "      <th>Gender</th>\n",
       "      <th></th>\n",
       "    </tr>\n",
       "  </thead>\n",
       "  <tbody>\n",
       "    <tr>\n",
       "      <th>Female</th>\n",
       "      <td>5492.181860</td>\n",
       "    </tr>\n",
       "    <tr>\n",
       "      <th>Male</th>\n",
       "      <td>6804.849064</td>\n",
       "    </tr>\n",
       "  </tbody>\n",
       "</table>\n",
       "</div>"
      ],
      "text/plain": [
       "             income\n",
       "Gender             \n",
       "Female  5492.181860\n",
       "Male    6804.849064"
      ]
     },
     "execution_count": 21,
     "metadata": {},
     "output_type": "execute_result"
    }
   ],
   "source": [
    "df_loan_gender.pivot_table(index='Gender', values='income', aggfunc='mean')"
   ]
  },
  {
   "cell_type": "code",
   "execution_count": 22,
   "id": "f2869df0",
   "metadata": {},
   "outputs": [
    {
     "name": "stdout",
     "output_type": "stream",
     "text": [
      "As pessoas que se declararam do gênero Feminino recebem 80.71% do que as pessoas do gênero Masculino.\n"
     ]
    }
   ],
   "source": [
    "print(f'As pessoas que se declararam do gênero Feminino recebem {(5492.12/6804.85)*100:.2f}% do que as pessoas do gênero Masculino.')"
   ]
  },
  {
   "cell_type": "code",
   "execution_count": 23,
   "id": "3a70be42",
   "metadata": {},
   "outputs": [
    {
     "data": {
      "text/html": [
       "<div>\n",
       "<style scoped>\n",
       "    .dataframe tbody tr th:only-of-type {\n",
       "        vertical-align: middle;\n",
       "    }\n",
       "\n",
       "    .dataframe tbody tr th {\n",
       "        vertical-align: top;\n",
       "    }\n",
       "\n",
       "    .dataframe thead th {\n",
       "        text-align: right;\n",
       "    }\n",
       "</style>\n",
       "<table border=\"1\" class=\"dataframe\">\n",
       "  <thead>\n",
       "    <tr style=\"text-align: right;\">\n",
       "      <th></th>\n",
       "      <th></th>\n",
       "      <th>Status</th>\n",
       "    </tr>\n",
       "    <tr>\n",
       "      <th>Gender</th>\n",
       "      <th>faixa_salario</th>\n",
       "      <th></th>\n",
       "    </tr>\n",
       "  </thead>\n",
       "  <tbody>\n",
       "    <tr>\n",
       "      <th rowspan=\"4\" valign=\"top\">Female</th>\n",
       "      <th>0-1000</th>\n",
       "      <td>0.821333</td>\n",
       "    </tr>\n",
       "    <tr>\n",
       "      <th>1000-2000</th>\n",
       "      <td>0.384051</td>\n",
       "    </tr>\n",
       "    <tr>\n",
       "      <th>2000-5000</th>\n",
       "      <td>0.264341</td>\n",
       "    </tr>\n",
       "    <tr>\n",
       "      <th>&gt;5000</th>\n",
       "      <td>0.205158</td>\n",
       "    </tr>\n",
       "    <tr>\n",
       "      <th rowspan=\"4\" valign=\"top\">Male</th>\n",
       "      <th>0-1000</th>\n",
       "      <td>0.921141</td>\n",
       "    </tr>\n",
       "    <tr>\n",
       "      <th>1000-2000</th>\n",
       "      <td>0.423888</td>\n",
       "    </tr>\n",
       "    <tr>\n",
       "      <th>2000-5000</th>\n",
       "      <td>0.293373</td>\n",
       "    </tr>\n",
       "    <tr>\n",
       "      <th>&gt;5000</th>\n",
       "      <td>0.226439</td>\n",
       "    </tr>\n",
       "  </tbody>\n",
       "</table>\n",
       "</div>"
      ],
      "text/plain": [
       "                        Status\n",
       "Gender faixa_salario          \n",
       "Female 0-1000         0.821333\n",
       "       1000-2000      0.384051\n",
       "       2000-5000      0.264341\n",
       "       >5000          0.205158\n",
       "Male   0-1000         0.921141\n",
       "       1000-2000      0.423888\n",
       "       2000-5000      0.293373\n",
       "       >5000          0.226439"
      ]
     },
     "execution_count": 23,
     "metadata": {},
     "output_type": "execute_result"
    }
   ],
   "source": [
    "df_groupby_gender = df_loan_gender.groupby(['Gender', 'faixa_salario'])[['Status']].mean()\n",
    "df_groupby_gender"
   ]
  },
  {
   "cell_type": "code",
   "execution_count": 44,
   "id": "a0397deb",
   "metadata": {},
   "outputs": [
    {
     "data": {
      "image/png": "[encoded data removed]",
      "text/plain": [
       "<Figure size 640x480 with 1 Axes>"
      ]
     },
     "metadata": {},
     "output_type": "display_data"
    }
   ],
   "source": [
    "df_groupby_gender = df_loan_gender.groupby(['Gender', 'faixa_salario'])[['Status']].mean()\n",
    "df_groupby_gender.reset_index(inplace=True)\n",
    "\n",
    "ax1 = df_groupby_gender[df_groupby_gender['Gender'] == 'Female'].plot(x='faixa_salario', y='Status', c='pink', label='Female')\n",
    "ax2 = df_groupby_gender[df_groupby_gender['Gender'] == 'Male'].plot(x='faixa_salario', y='Status', c='blue', ax=ax1, label = 'Male');"
   ]
  },
  {
   "cell_type": "code",
   "execution_count": 24,
   "id": "d76cd81d",
   "metadata": {},
   "outputs": [
    {
     "name": "stdout",
     "output_type": "stream",
     "text": [
      "Inadimplência do Gênero Masculino frente ao gênero feminino:\n",
      "Faixa Salarial de 0-1000: +10.84%\n",
      "Faixa Salarial de 1000-2000: +9.40%\n",
      "Faixa Salarial de 2000-5000: +9.90%\n",
      "Faixa Salarial de > 5000: +9.40%\n"
     ]
    }
   ],
   "source": [
    "print(f'Inadimplência do Gênero Masculino frente ao gênero feminino:\\nFaixa Salarial de 0-1000: +{100 - (df_groupby_gender.iloc[0][0]/df_groupby_gender.iloc[4][0])*100:.2f}%\\nFaixa Salarial de 1000-2000: +{100 - (df_groupby_gender.iloc[1][0]/df_groupby_gender.iloc[5][0])*100:.2f}%\\nFaixa Salarial de 2000-5000: +{100 - (df_groupby_gender.iloc[2][0]/df_groupby_gender.iloc[6][0])*100:.2f}%\\nFaixa Salarial de > 5000: +{100 - (df_groupby_gender.iloc[3][0]/df_groupby_gender.iloc[7][0])*100:.2f}%')"
   ]
  },
  {
   "cell_type": "code",
   "execution_count": 28,
   "id": "8d3667a2",
   "metadata": {},
   "outputs": [
    {
     "name": "stdout",
     "output_type": "stream",
     "text": [
      "Entre 16500 e 50000:      0.5097\n",
      "Entre 50000 e 100000:     0.3632\n",
      "Entre 100000 e 300000:    0.2618\n",
      "Entre 300000 e 500000:    0.2179\n",
      "Entre 500000 e 1000000:   0.2169\n",
      "Entre 1000000 e 2000000:  0.4779\n",
      "Maior ou igual a 2000000: 0.7250\n"
     ]
    }
   ],
   "source": [
    "# Bruno\n",
    "\n",
    "print(f\"Entre 16500 e 50000:      {df_loan[(df_loan['loan_amount']>= 16500) & (df_loan['loan_amount'] < 50000)]['Status'].mean():.4f}\")\n",
    "print(f\"Entre 50000 e 100000:     {df_loan[(df_loan['loan_amount']>= 50000) & (df_loan['loan_amount'] < 100000)]['Status'].mean():.4f}\")\n",
    "print(f\"Entre 100000 e 300000:    {df_loan[(df_loan['loan_amount']>= 100000) & (df_loan['loan_amount'] < 300000)]['Status'].mean():.4f}\")\n",
    "print(f\"Entre 300000 e 500000:    {df_loan[(df_loan['loan_amount']>= 300000) & (df_loan['loan_amount'] < 500000)]['Status'].mean():.4f}\")\n",
    "print(f\"Entre 500000 e 1000000:   {df_loan[(df_loan['loan_amount']>= 500000) & (df_loan['loan_amount'] < 1000000)]['Status'].mean():.4f}\")\n",
    "print(f\"Entre 1000000 e 2000000:  {df_loan[(df_loan['loan_amount']>= 1000000) & (df_loan['loan_amount'] < 2000000)]['Status'].mean():.4f}\")\n",
    "print(f\"Maior ou igual a 2000000: {df_loan[(df_loan['loan_amount']>= 2000000)]['Status'].mean():.4f}\")"
   ]
  },
  {
   "cell_type": "code",
   "execution_count": 29,
   "id": "8b7e9762",
   "metadata": {},
   "outputs": [],
   "source": [
    "import matplotlib.pyplot as plt"
   ]
  },
  {
   "cell_type": "code",
   "execution_count": 33,
   "id": "62b87b18",
   "metadata": {},
   "outputs": [
    {
     "data": {
      "text/html": [
       "<div>\n",
       "<style scoped>\n",
       "    .dataframe tbody tr th:only-of-type {\n",
       "        vertical-align: middle;\n",
       "    }\n",
       "\n",
       "    .dataframe tbody tr th {\n",
       "        vertical-align: top;\n",
       "    }\n",
       "\n",
       "    .dataframe thead th {\n",
       "        text-align: right;\n",
       "    }\n",
       "</style>\n",
       "<table border=\"1\" class=\"dataframe\">\n",
       "  <thead>\n",
       "    <tr style=\"text-align: right;\">\n",
       "      <th></th>\n",
       "      <th>Credit_Score</th>\n",
       "      <th>Status</th>\n",
       "    </tr>\n",
       "  </thead>\n",
       "  <tbody>\n",
       "    <tr>\n",
       "      <th>0</th>\n",
       "      <td>500</td>\n",
       "      <td>0.282913</td>\n",
       "    </tr>\n",
       "    <tr>\n",
       "      <th>1</th>\n",
       "      <td>501</td>\n",
       "      <td>0.280112</td>\n",
       "    </tr>\n",
       "    <tr>\n",
       "      <th>2</th>\n",
       "      <td>502</td>\n",
       "      <td>0.239884</td>\n",
       "    </tr>\n",
       "    <tr>\n",
       "      <th>3</th>\n",
       "      <td>503</td>\n",
       "      <td>0.206266</td>\n",
       "    </tr>\n",
       "    <tr>\n",
       "      <th>4</th>\n",
       "      <td>504</td>\n",
       "      <td>0.242347</td>\n",
       "    </tr>\n",
       "  </tbody>\n",
       "</table>\n",
       "</div>"
      ],
      "text/plain": [
       "   Credit_Score    Status\n",
       "0           500  0.282913\n",
       "1           501  0.280112\n",
       "2           502  0.239884\n",
       "3           503  0.206266\n",
       "4           504  0.242347"
      ]
     },
     "execution_count": 33,
     "metadata": {},
     "output_type": "execute_result"
    }
   ],
   "source": [
    "df_cred_score = df_loan.pivot_table(index='Credit_Score', values='Status', aggfunc='mean').reset_index()\n",
    "df_cred_score.head()"
   ]
  },
  {
   "cell_type": "code",
   "execution_count": 36,
   "id": "3647f509",
   "metadata": {},
   "outputs": [
    {
     "data": {
      "image/png": "[encoded data removed]",
      "text/plain": [
       "<Figure size 640x480 with 1 Axes>"
      ]
     },
     "metadata": {},
     "output_type": "display_data"
    }
   ],
   "source": [
    "plt.plot(df_cred_score['Credit_Score'], df_cred_score['Status']);"
   ]
  },
  {
   "cell_type": "code",
   "execution_count": 37,
   "id": "065c0ded",
   "metadata": {},
   "outputs": [
    {
     "data": {
      "image/png": "[encoded data removed]",
      "text/plain": [
       "<Figure size 640x480 with 1 Axes>"
      ]
     },
     "metadata": {},
     "output_type": "display_data"
    }
   ],
   "source": [
    "plt.plot('Credit_Score', 'Status', data=df_cred_score);"
   ]
  },
  {
   "cell_type": "code",
   "execution_count": 38,
   "id": "7997aa60",
   "metadata": {},
   "outputs": [
    {
     "data": {
      "image/png": "[encoded data removed]",
      "text/plain": [
       "<Figure size 640x480 with 1 Axes>"
      ]
     },
     "metadata": {},
     "output_type": "display_data"
    }
   ],
   "source": [
    "plt.scatter('Credit_Score', 'Status', data=df_cred_score);"
   ]
  }
 ],
 "metadata": {
  "kernelspec": {
   "display_name": "Python 3 (ipykernel)",
   "language": "python",
   "name": "python3"
  },
  "language_info": {
   "codemirror_mode": {
    "name": "ipython",
    "version": 3
   },
   "file_extension": ".py",
   "mimetype": "text/x-python",
   "name": "python",
   "nbconvert_exporter": "python",
   "pygments_lexer": "ipython3",
   "version": "3.9.13"
  }
 },
 "nbformat": 4,
 "nbformat_minor": 5
}
