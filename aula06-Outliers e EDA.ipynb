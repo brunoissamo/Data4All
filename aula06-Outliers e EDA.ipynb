{
 "cells": [
  {
   "cell_type": "markdown",
   "id": "f31ed5fa",
   "metadata": {},
   "source": [
    "\n",
    "# Outliers\n",
    "  \n",
    "Os outliers são dados que se diferenciam drasticamente de todos os outros. Em outras palavras, um outlier é um valor que foge da normalidade e que pode (e provavelmente irá) causar anomalias nos resultados obtidos por meio de algoritmos e sistemas de análise.\n",
    "\n",
    "Entender os outliers é fundamental em uma análise de dados por pelo menos dois aspectos:\n",
    "\n",
    "os outliers podem viesar negativamente todo o resultado de uma análise;\n",
    "o comportamento dos outliers pode ser justamente o que está sendo procurado.\n",
    "Os outliers presentes em datasets  (o que são datasets) possuem diversos outros nomes, como:\n",
    "\n",
    "- dados discrepantes;\n",
    "- pontos fora da curva; (o que é curva normal?)\n",
    "- observações fora do comum;\n",
    "- anomalias;\n",
    "- valores atípicos"
   ]
  },
  {
   "cell_type": "markdown",
   "id": "f046a971",
   "metadata": {},
   "source": [
    "Após reconhecer os dados discrepantes da sua análise, é preciso tomar certos cuidados para que a efetividade da mesma não seja comprometida. Algumas alternativas são:\n",
    "\n",
    "1) ELIMINAR O VALOR\n",
    "\n",
    "Caso seu dataset seja amplo o suficiente, é possível simplesmente excluir o valor anômalo sem causar grandes prejuízos à análise de dados.\n",
    "\n",
    "2) TRATAR SEPARADAMENTE\n",
    "\n",
    "Se a quantidade de outliers for relativamente grande, uma opção é realizar uma análise separada somente com esses dados. É possível separá-los em dois grupos e criar modelos específicos para analisá-los. Essa solução é útil para investigar casos extremos, como por exemplo casos de empresas que continuam vendendo bastante e lucrando mesmo em tempos de crise.\n",
    "\n",
    "3) TRANSFORMAÇÃO LOGARÍTMICA\n",
    "\n",
    "Transformar os dados logaritmicamente é uma técnica que pode diminuir a variação causada pelos valores extremos e anômalos.\n",
    "\n",
    "4) MÉTODOS DE CLUSTERIZAÇÃO\n",
    "\n",
    "Utilize esses métodos para achar uma aproximação que corrige e dá um novo valor aos outliers. Por exemplo, se os outliers forem causados por erros de input, ao invés de eliminar e perder uma linha inteira de registros, uma solução é usar algoritmos de clusterização. Esses algoritmos encontram o comportamento das observações mais próximas ao outlier e fazem uma interferência de qual seria o melhor valor aproximado."
   ]
  },
  {
   "cell_type": "markdown",
   "id": "1b338e72",
   "metadata": {},
   "source": [
    "Identificação de ouliers"
   ]
  },
  {
   "cell_type": "code",
   "execution_count": null,
   "id": "c7b1bc0f",
   "metadata": {},
   "outputs": [],
   "source": [
    "import pandas as pd\n",
    "import numpy as np"
   ]
  },
  {
   "cell_type": "code",
   "execution_count": null,
   "id": "05256b09",
   "metadata": {},
   "outputs": [],
   "source": [
    "df_loan = pd.read_csv('./dados/Loan_Default.csv')\n",
    "df_loan.head()"
   ]
  },
  {
   "cell_type": "code",
   "execution_count": null,
   "id": "de365ec4",
   "metadata": {},
   "outputs": [],
   "source": [
    "df_loan['income'].plot(kind='box')"
   ]
  },
  {
   "cell_type": "markdown",
   "id": "7fcdc63a",
   "metadata": {},
   "source": [
    "**Bora praticar!**\n",
    "  \n",
    "Os bancos obtêm uma receita importante com empréstimos concedidos. Mas muitas vezes está associado ao risco. O mutuário pode não pagar o empréstimo. Para mitigar esse problema, os bancos decidiram usar o Machine Learning para superar esse problema. Eles coletaram dados anteriores sobre os tomadores de empréstimos e gostariam que você desenvolvesse um modelo de ML forte para classificar se algum novo devedor provavelmente entrará em default ou não.  \n",
    "  \n",
    "O conjunto de dados é enorme e consiste em vários fatores determinísticos, como renda do mutuário, gênero, finalidade do empréstimo, etc. O conjunto de dados está sujeito a uma forte multicolinearidade e valores vazios. Você pode superar esses fatores e construir um classificador forte para prever inadimplentes?  \n",
    "  \n",
    "Importe a base **Loan_Default.csv** que está em csv dentro do diretório **dados**."
   ]
  },
  {
   "cell_type": "code",
   "execution_count": null,
   "id": "3bc7a69c",
   "metadata": {},
   "outputs": [],
   "source": [
    "df_loan = pd.read_csv('./dados/Loan_Default.csv')\n",
    "df_loan.head()"
   ]
  },
  {
   "cell_type": "code",
   "execution_count": null,
   "id": "b38d3627",
   "metadata": {},
   "outputs": [],
   "source": [
    "df_loan.shape"
   ]
  },
  {
   "cell_type": "code",
   "execution_count": null,
   "id": "5f7ae475",
   "metadata": {},
   "outputs": [],
   "source": [
    "df_loan.columns"
   ]
  },
  {
   "cell_type": "code",
   "execution_count": null,
   "id": "a9ec3bc8",
   "metadata": {},
   "outputs": [],
   "source": [
    "df_loan.info()"
   ]
  },
  {
   "cell_type": "code",
   "execution_count": null,
   "id": "66b98b86",
   "metadata": {},
   "outputs": [],
   "source": [
    "df_loan.describe()"
   ]
  },
  {
   "cell_type": "code",
   "execution_count": null,
   "id": "4369031e",
   "metadata": {},
   "outputs": [],
   "source": [
    "df_loan.isna().sum()"
   ]
  },
  {
   "cell_type": "code",
   "execution_count": null,
   "id": "7fc31e7d",
   "metadata": {},
   "outputs": [],
   "source": [
    "df_loan.isnull().sum()"
   ]
  },
  {
   "cell_type": "code",
   "execution_count": null,
   "id": "3f5fc6ed",
   "metadata": {},
   "outputs": [],
   "source": [
    "(df_loan.isnull().sum() / len(df_loan))*100"
   ]
  },
  {
   "cell_type": "markdown",
   "id": "fcebf6b5",
   "metadata": {},
   "source": [
    "Análise de variáveis contínuas"
   ]
  },
  {
   "cell_type": "code",
   "execution_count": null,
   "id": "a710a546",
   "metadata": {},
   "outputs": [],
   "source": [
    "df_loan[['Credit_Score']].plot(kind='box');"
   ]
  },
  {
   "cell_type": "markdown",
   "id": "b6e5590f",
   "metadata": {},
   "source": [
    "Vamos analisar nossa variável de interesse **Status**"
   ]
  },
  {
   "cell_type": "code",
   "execution_count": null,
   "id": "001d6ad7",
   "metadata": {},
   "outputs": [],
   "source": [
    "df_loan['Status'].value_counts()"
   ]
  },
  {
   "cell_type": "code",
   "execution_count": null,
   "id": "7a631bcc",
   "metadata": {},
   "outputs": [],
   "source": [
    "df_loan['Status'].value_counts(normalize=True)"
   ]
  },
  {
   "cell_type": "code",
   "execution_count": null,
   "id": "700c6d37",
   "metadata": {},
   "outputs": [],
   "source": [
    "df_loan['Status'].mean()"
   ]
  },
  {
   "cell_type": "markdown",
   "id": "eb01352e",
   "metadata": {},
   "source": [
    "Podemos analisar outras variáveis de interese também"
   ]
  },
  {
   "cell_type": "code",
   "execution_count": null,
   "id": "f2de2de9",
   "metadata": {},
   "outputs": [],
   "source": [
    "df_loan['age'].value_counts()"
   ]
  },
  {
   "cell_type": "code",
   "execution_count": null,
   "id": "fb5c609d",
   "metadata": {
    "scrolled": true
   },
   "outputs": [],
   "source": [
    "df_loan.pivot_table(index='age', aggfunc='count', values='ID')"
   ]
  },
  {
   "cell_type": "code",
   "execution_count": null,
   "id": "83e00726",
   "metadata": {},
   "outputs": [],
   "source": [
    "df_loan.pivot_table(index='age', aggfunc='count', values='ID').plot(kind='bar');"
   ]
  },
  {
   "cell_type": "code",
   "execution_count": null,
   "id": "d7e2f410",
   "metadata": {},
   "outputs": [],
   "source": [
    "df_loan['credit_type'].value_counts()"
   ]
  },
  {
   "cell_type": "markdown",
   "id": "a447c806",
   "metadata": {},
   "source": [
    "Agora podemos verificar as relações das variáveis presentes no dataset com a nossa variável de interesse."
   ]
  },
  {
   "cell_type": "code",
   "execution_count": null,
   "id": "29ba332f",
   "metadata": {},
   "outputs": [],
   "source": [
    "df_loan.pivot_table(index='credit_type', values='Status', aggfunc='mean')"
   ]
  },
  {
   "cell_type": "code",
   "execution_count": null,
   "id": "b83a0598",
   "metadata": {},
   "outputs": [],
   "source": [
    "df_loan.pivot_table(index='income', values='Status', aggfunc='mean')"
   ]
  },
  {
   "cell_type": "code",
   "execution_count": null,
   "id": "beefc3cc",
   "metadata": {},
   "outputs": [],
   "source": [
    "def salarios(salario):\n",
    "    if np.isnan(salario):\n",
    "        return np.nan\n",
    "    elif salario <= 1000:\n",
    "        return \"0-1000\"\n",
    "    elif salario <= 2000:\n",
    "        return \"1000-2000\"\n",
    "    elif salario <= 5000:\n",
    "        return \"2000-5000\"\n",
    "    else:\n",
    "        return \">5000\""
   ]
  },
  {
   "cell_type": "code",
   "execution_count": null,
   "id": "207de00d",
   "metadata": {},
   "outputs": [],
   "source": [
    "df_loan['faixa_salario'] = df_loan['income'].apply(salarios)\n",
    "df_loan.pivot_table(index='faixa_salario', values='Status', aggfunc='mean')"
   ]
  },
  {
   "cell_type": "code",
   "execution_count": null,
   "id": "f264a594",
   "metadata": {},
   "outputs": [],
   "source": [
    "df_loan.pivot_table(index='Region', values='Status', aggfunc='mean')"
   ]
  },
  {
   "cell_type": "code",
   "execution_count": null,
   "id": "0f39d77b",
   "metadata": {},
   "outputs": [],
   "source": [
    "df_loan.pivot_table(index='age', values='Status', aggfunc='mean')"
   ]
  },
  {
   "cell_type": "code",
   "execution_count": null,
   "id": "c574284f",
   "metadata": {},
   "outputs": [],
   "source": [
    "df_loan.corr()"
   ]
  }
 ],
 "metadata": {
  "kernelspec": {
   "display_name": "Python 3 (ipykernel)",
   "language": "python",
   "name": "python3"
  },
  "language_info": {
   "codemirror_mode": {
    "name": "ipython",
    "version": 3
   },
   "file_extension": ".py",
   "mimetype": "text/x-python",
   "name": "python",
   "nbconvert_exporter": "python",
   "pygments_lexer": "ipython3",
   "version": "3.9.13"
  }
 },
 "nbformat": 4,
 "nbformat_minor": 5
}
